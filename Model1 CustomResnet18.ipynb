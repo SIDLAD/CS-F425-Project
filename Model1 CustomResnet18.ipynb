{
  "cells": [
    {
      "cell_type": "code",
      "execution_count": 1,
      "metadata": {
        "colab": {
          "base_uri": "https://localhost:8080/"
        },
        "id": "73WcCtOSc-t9",
        "outputId": "71db5f54-414a-4e69-8b58-0746ea36643d"
      },
      "outputs": [],
      "source": [
        "RunningInColab = 'google.colab' in str(get_ipython())\n",
        "if RunningInColab:\n",
        "    from google.colab import drive\n",
        "    drive.mount('/content/drive')"
      ]
    },
    {
      "cell_type": "code",
      "execution_count": 2,
      "metadata": {
        "id": "lbRunumRL6oh"
      },
      "outputs": [],
      "source": [
        "# Imports\n",
        "from torch.utils.data import Dataset, DataLoader\n",
        "import os\n",
        "import torch\n",
        "import torchaudio\n",
        "import torchaudio.transforms as transforms\n",
        "\n",
        "import torch.nn as nn\n",
        "import torch.nn.functional as F\n",
        "import torch.optim as optim\n",
        "import torchvision.models as models\n",
        "from torchsummary import summary\n",
        "\n",
        "from math import ceil\n",
        "from tqdm import tqdm\n",
        "\n",
        "import matplotlib.pyplot as plt"
      ]
    },
    {
      "cell_type": "code",
      "execution_count": 3,
      "metadata": {
        "id": "hjZxNkGLJmyK"
      },
      "outputs": [],
      "source": [
        "# Hyperparameters\n",
        "TARGET_SAMPLE_RATE = 16000\n",
        "TARGET_LENGTH_SECONDS = 4\n",
        "BATCH_SIZE = 128\n",
        "EPOCHS = 60\n",
        "LEARNING_RATE = 3e-4\n",
        "DROPOUT_PROB = 0.4\n",
        "DROPOUT_PROB_2D = 0.2\n",
        "\n",
        "NUM_SAMPLES = TARGET_LENGTH_SECONDS * TARGET_SAMPLE_RATE\n",
        "device = torch.device(\"cuda\" if torch.cuda.is_available() else \"cpu\")\n",
        "\n",
        "# Define transformations\n",
        "transformations = [\n",
        "    transforms.MelSpectrogram(\n",
        "            sample_rate=TARGET_SAMPLE_RATE,\n",
        "            n_fft = 1024,\n",
        "            hop_length = 512,\n",
        "            n_mels = 64\n",
        "        ),\n",
        "]"
      ]
    },
    {
      "cell_type": "code",
      "execution_count": 4,
      "metadata": {
        "id": "VjgT3fgxcleX"
      },
      "outputs": [],
      "source": [
        "class_mapping = {\n",
        "  \"car_horn\":1,\n",
        "  \"dog_barking\":2,\n",
        "  \"drilling\":3,\n",
        "  \"Fart\":4,\n",
        "  \"Guitar\":5,\n",
        "  \"Gunshot_and_gunfire\":6,\n",
        "  \"Hi-hat\":7,\n",
        "  \"Knock\":8,\n",
        "  \"Laughter\":9,\n",
        "  \"Shatter\":10,\n",
        "  \"siren\":11,\n",
        "  \"Snare_drum\":12,\n",
        "  \"Splash_and_splatter\":13,\n",
        "}\n",
        "\n",
        "class AudioDataset(Dataset):\n",
        "  def __init__(self,\n",
        "               data_dir,\n",
        "               transformations = transformations,\n",
        "               target_sample_rate = TARGET_SAMPLE_RATE,\n",
        "               num_samples = NUM_SAMPLES,\n",
        "               device = device\n",
        "               ):\n",
        "    self.data_dir = data_dir\n",
        "    self.classes = sorted(os.listdir(data_dir))\n",
        "    self.file_paths = []\n",
        "    self.targets = []\n",
        "    self.transformations = transformations\n",
        "    self.target_sample_rate = target_sample_rate\n",
        "    self.num_samples = num_samples\n",
        "    self.device = device\n",
        "\n",
        "    createMapping = False\n",
        "    if(len(class_mapping) == 0):createMapping = True\n",
        "\n",
        "    for i,class_name in enumerate(self.classes):\n",
        "      class_dir = os.path.join(data_dir,class_name)\n",
        "      if(createMapping):class_mapping[class_name] = i\n",
        "\n",
        "      for filename in os.listdir(class_dir):\n",
        "        filepath = os.path.join(class_dir,filename)\n",
        "        self.file_paths.append(filepath)\n",
        "        self.targets.append(class_mapping[class_name])\n",
        "\n",
        "  def __len__(self):\n",
        "    return len(self.file_paths)\n",
        "\n",
        "  def __getitem__(self,idx):\n",
        "    audio_path = self.file_paths[idx]\n",
        "    waveform, sample_rate = torchaudio.load(audio_path)\n",
        "    waveform = waveform.to(self.device)\n",
        "    waveform = self._resample_if_necessary(waveform,sample_rate)\n",
        "    waveform = self._mix_down_if_necessary(waveform)\n",
        "    waveform = self._cut_if_necessary(waveform)\n",
        "    waveform = self._right_pad_if_necessary(waveform)\n",
        "    \n",
        "\n",
        "    if self.transformations:\n",
        "      for transformation in self.transformations:\n",
        "        waveform = transformation.to(self.device)(waveform)\n",
        "\n",
        "    # waveform normalisation:\n",
        "    waveform = torch.log1p(waveform)\n",
        "    waveform = waveform * 255/(waveform.max() -waveform.min())\n",
        "        \n",
        "    label = self.targets[idx]\n",
        "    return waveform, label\n",
        "\n",
        "  def _resample_if_necessary(self, waveform,sample_rate):\n",
        "    if sample_rate != self.target_sample_rate:\n",
        "      resampler = torchaudio.transforms.Resample(sample_rate,self.target_sample_rate)\n",
        "      waveform = resampler.to(self.device)(waveform)\n",
        "    return waveform\n",
        "\n",
        "  def _mix_down_if_necessary(self,waveform):\n",
        "    if waveform.shape[0] > 1:\n",
        "      waveform = torch.mean(waveform,dim = 0,keepdim = True)\n",
        "    return waveform\n",
        "\n",
        "  #If the video was longer than TARGET_LENGTH_SECONDS, then we are cropping it to that many seconds by removing seconds equally from both the start and the end sides\n",
        "  def _cut_if_necessary(self,waveform):\n",
        "    if waveform.shape[1] > self.num_samples:\n",
        "      mid = (waveform.shape[1] - 1)//2\n",
        "      nsby2 = self.num_samples//2\n",
        "      waveform = waveform[:,mid - nsby2 + 1: mid + self.num_samples - nsby2 + 1]\n",
        "    return waveform\n",
        "\n",
        "  def _right_pad_if_necessary(self,waveform):\n",
        "    num_samples = waveform.shape[1]\n",
        "    if num_samples < self.num_samples:\n",
        "      num_missing_samples = self.num_samples - num_samples\n",
        "      last_dim_padding = (0,num_missing_samples)\n",
        "      waveform = torch.nn.functional.pad(waveform,last_dim_padding)\n",
        "    return waveform\n",
        "\n",
        "\n",
        "\n",
        "# Define data directories\n",
        "train_dir: str\n",
        "val_dir:str\n",
        "if RunningInColab:\n",
        "    train_dir = \"/content/drive/MyDrive/audio_dataset/train\"\n",
        "    val_dir = \"/content/drive/MyDrive/audio_dataset/val\"\n",
        "else:\n",
        "    train_dir = \"audio_dataset/train\"\n",
        "    val_dir = \"audio_dataset/val\"\n",
        "\n",
        "train_dataset = AudioDataset(train_dir)\n",
        "val_dataset = AudioDataset(val_dir)\n",
        "\n",
        "train_loader = DataLoader(\n",
        "    train_dataset,batch_size = BATCH_SIZE, shuffle = True\n",
        ")\n",
        "val_loader = DataLoader(\n",
        "    val_dataset,batch_size = BATCH_SIZE\n",
        ")"
      ]
    },
    {
      "cell_type": "code",
      "execution_count": 5,
      "metadata": {
        "colab": {
          "base_uri": "https://localhost:8080/"
        },
        "id": "jhisim9Ncleb",
        "outputId": "a27c8c65-4387-4cc4-f299-8a223a52d423"
      },
      "outputs": [
        {
          "name": "stdout",
          "output_type": "stream",
          "text": [
            "----------------------------------------------------------------\n",
            "        Layer (type)               Output Shape         Param #\n",
            "================================================================\n",
            "            Conv2d-1           [-1, 64, 32, 63]           3,136\n",
            "         Dropout2d-2           [-1, 64, 32, 63]               0\n",
            "       BatchNorm2d-3           [-1, 64, 32, 63]             128\n",
            "              ReLU-4           [-1, 64, 32, 63]               0\n",
            "         MaxPool2d-5           [-1, 64, 16, 32]               0\n",
            "            Conv2d-6           [-1, 64, 16, 32]          36,864\n",
            "       BatchNorm2d-7           [-1, 64, 16, 32]             128\n",
            "              ReLU-8           [-1, 64, 16, 32]               0\n",
            "            Conv2d-9           [-1, 64, 16, 32]          36,864\n",
            "      BatchNorm2d-10           [-1, 64, 16, 32]             128\n",
            "             ReLU-11           [-1, 64, 16, 32]               0\n",
            "       BasicBlock-12           [-1, 64, 16, 32]               0\n",
            "           Conv2d-13           [-1, 64, 16, 32]          36,864\n",
            "      BatchNorm2d-14           [-1, 64, 16, 32]             128\n",
            "             ReLU-15           [-1, 64, 16, 32]               0\n",
            "           Conv2d-16           [-1, 64, 16, 32]          36,864\n",
            "      BatchNorm2d-17           [-1, 64, 16, 32]             128\n",
            "             ReLU-18           [-1, 64, 16, 32]               0\n",
            "       BasicBlock-19           [-1, 64, 16, 32]               0\n",
            "        Dropout2d-20           [-1, 64, 16, 32]               0\n",
            "           Conv2d-21           [-1, 128, 8, 16]          73,728\n",
            "      BatchNorm2d-22           [-1, 128, 8, 16]             256\n",
            "             ReLU-23           [-1, 128, 8, 16]               0\n",
            "           Conv2d-24           [-1, 128, 8, 16]         147,456\n",
            "      BatchNorm2d-25           [-1, 128, 8, 16]             256\n",
            "           Conv2d-26           [-1, 128, 8, 16]           8,192\n",
            "      BatchNorm2d-27           [-1, 128, 8, 16]             256\n",
            "             ReLU-28           [-1, 128, 8, 16]               0\n",
            "       BasicBlock-29           [-1, 128, 8, 16]               0\n",
            "           Conv2d-30           [-1, 128, 8, 16]         147,456\n",
            "      BatchNorm2d-31           [-1, 128, 8, 16]             256\n",
            "             ReLU-32           [-1, 128, 8, 16]               0\n",
            "           Conv2d-33           [-1, 128, 8, 16]         147,456\n",
            "      BatchNorm2d-34           [-1, 128, 8, 16]             256\n",
            "             ReLU-35           [-1, 128, 8, 16]               0\n",
            "       BasicBlock-36           [-1, 128, 8, 16]               0\n",
            "        Dropout2d-37           [-1, 128, 8, 16]               0\n",
            "           Conv2d-38            [-1, 256, 4, 8]         294,912\n",
            "      BatchNorm2d-39            [-1, 256, 4, 8]             512\n",
            "             ReLU-40            [-1, 256, 4, 8]               0\n",
            "           Conv2d-41            [-1, 256, 4, 8]         589,824\n",
            "      BatchNorm2d-42            [-1, 256, 4, 8]             512\n",
            "           Conv2d-43            [-1, 256, 4, 8]          32,768\n",
            "      BatchNorm2d-44            [-1, 256, 4, 8]             512\n",
            "             ReLU-45            [-1, 256, 4, 8]               0\n",
            "       BasicBlock-46            [-1, 256, 4, 8]               0\n",
            "           Conv2d-47            [-1, 256, 4, 8]         589,824\n",
            "      BatchNorm2d-48            [-1, 256, 4, 8]             512\n",
            "             ReLU-49            [-1, 256, 4, 8]               0\n",
            "           Conv2d-50            [-1, 256, 4, 8]         589,824\n",
            "      BatchNorm2d-51            [-1, 256, 4, 8]             512\n",
            "             ReLU-52            [-1, 256, 4, 8]               0\n",
            "       BasicBlock-53            [-1, 256, 4, 8]               0\n",
            "        Dropout2d-54            [-1, 256, 4, 8]               0\n",
            "           Conv2d-55            [-1, 512, 2, 4]       1,179,648\n",
            "      BatchNorm2d-56            [-1, 512, 2, 4]           1,024\n",
            "             ReLU-57            [-1, 512, 2, 4]               0\n",
            "           Conv2d-58            [-1, 512, 2, 4]       2,359,296\n",
            "      BatchNorm2d-59            [-1, 512, 2, 4]           1,024\n",
            "           Conv2d-60            [-1, 512, 2, 4]         131,072\n",
            "      BatchNorm2d-61            [-1, 512, 2, 4]           1,024\n",
            "             ReLU-62            [-1, 512, 2, 4]               0\n",
            "       BasicBlock-63            [-1, 512, 2, 4]               0\n",
            "           Conv2d-64            [-1, 512, 2, 4]       2,359,296\n",
            "      BatchNorm2d-65            [-1, 512, 2, 4]           1,024\n",
            "             ReLU-66            [-1, 512, 2, 4]               0\n",
            "           Conv2d-67            [-1, 512, 2, 4]       2,359,296\n",
            "      BatchNorm2d-68            [-1, 512, 2, 4]           1,024\n",
            "             ReLU-69            [-1, 512, 2, 4]               0\n",
            "       BasicBlock-70            [-1, 512, 2, 4]               0\n",
            "        Dropout2d-71            [-1, 512, 2, 4]               0\n",
            "AdaptiveAvgPool2d-72            [-1, 512, 1, 1]               0\n",
            "           Linear-73                 [-1, 2048]       1,050,624\n",
            "           ResNet-74                 [-1, 2048]               0\n",
            "          Dropout-75                 [-1, 2048]               0\n",
            "           Linear-76                 [-1, 1024]       2,098,176\n",
            "           Linear-77                  [-1, 512]         524,800\n",
            "             ReLU-78                  [-1, 512]               0\n",
            "           Linear-79                   [-1, 13]           6,669\n",
            "================================================================\n",
            "Total params: 14,850,509\n",
            "Trainable params: 14,850,509\n",
            "Non-trainable params: 0\n",
            "----------------------------------------------------------------\n",
            "Input size (MB): 0.03\n",
            "Forward/backward pass size (MB): 11.72\n",
            "Params size (MB): 56.65\n",
            "Estimated Total Size (MB): 68.40\n",
            "----------------------------------------------------------------\n"
          ]
        }
      ],
      "source": [
        "class CustomResNet18(nn.Module):\n",
        "    def __init__(self):\n",
        "        super(CustomResNet18, self).__init__()\n",
        "        self.resnet = models.resnet18(weights=None).to(device)\n",
        "\n",
        "        self.resnet.conv1 = nn.Conv2d(1,64,kernel_size = 7,stride = 2,padding = 3,bias = False).to(device)\n",
        "        num_features = self.resnet.fc.in_features\n",
        "        self.resnet.fc = nn.Linear(num_features,2048).to(device)\n",
        "        # self.replace_batchnorm_layers(self.resnet)\n",
        "        self.num_classes = len(class_mapping)\n",
        "\n",
        "        self.resnet.conv1 = nn.Sequential(\n",
        "            self.resnet.conv1,\n",
        "            nn.Dropout2d(DROPOUT_PROB_2D)  # Add dropout after the first convolutional layer\n",
        "        )\n",
        "        # Add dropout after layers in resnet\n",
        "        self.resnet.layer1 = nn.Sequential(\n",
        "            self.resnet.layer1,\n",
        "            nn.Dropout2d(DROPOUT_PROB_2D)  # Add dropout after layer1\n",
        "        )\n",
        "        self.resnet.layer2 = nn.Sequential(\n",
        "            self.resnet.layer2,\n",
        "            nn.Dropout2d(DROPOUT_PROB_2D)  # Add dropout after layer2\n",
        "        )\n",
        "        self.resnet.layer3 = nn.Sequential(\n",
        "            self.resnet.layer3,\n",
        "            nn.Dropout2d(DROPOUT_PROB_2D)  # Add dropout after layer3\n",
        "        )\n",
        "        self.resnet.layer4 = nn.Sequential(\n",
        "            self.resnet.layer4,\n",
        "            nn.Dropout2d(DROPOUT_PROB_2D)  # Add dropout after layer4\n",
        "        )\n",
        "\n",
        "        # Add additional linear layers\n",
        "        self.additional_layers = nn.ModuleList().to(device)\n",
        "        self.additional_layers.append(nn.Dropout(DROPOUT_PROB).to(device))\n",
        "        self.additional_layers.append(nn.Linear(2048, 1024).to(device))\n",
        "        self.additional_layers.append(nn.Linear(1024,512).to(device))\n",
        "        self.additional_layers.append(nn.ReLU().to(device))\n",
        "        self.additional_layers.append(nn.Linear(512,self.num_classes).to(device))\n",
        "\n",
        "    def forward(self, x):\n",
        "        x = self.resnet(x)\n",
        "        for layer in self.additional_layers:\n",
        "            x = layer(x)\n",
        "        return x\n",
        "\n",
        "model = CustomResNet18()\n",
        "summary(model,(1,64,126))\n",
        "    \n"
      ]
    },
    {
      "cell_type": "code",
      "execution_count": 6,
      "metadata": {
        "id": "X6oxjQvIeKv8"
      },
      "outputs": [],
      "source": [
        "criterion = nn.CrossEntropyLoss()\n",
        "optimizer = optim.Adam(model.parameters(),lr = LEARNING_RATE)\n",
        "\n",
        "\n",
        "def train_model(model, train_loader, criterion, optimizer, epoch):\n",
        "  model.train()  # Set model to training mode\n",
        "  running_loss = 0.0\n",
        "  \n",
        "  correct = 0\n",
        "  total = len(train_dataset)\n",
        "\n",
        "  num_classes = len(class_mapping)\n",
        "  classwise_true_positive = torch.tensor([0]*num_classes).to(device)\n",
        "  classwise_true_negative = torch.tensor([0]*num_classes).to(device)\n",
        "  classwise_false_positive = torch.tensor([0]*num_classes).to(device)\n",
        "  classwise_false_negative = torch.tensor([0]*num_classes).to(device)\n",
        "\n",
        "  batch_itr = 0\n",
        "  loop = tqdm(train_loader, leave=True, desc=f\"Training Epoch {epoch+1}/{EPOCHS}\",bar_format=\"{l_bar}{bar}|\")\n",
        "\n",
        "  for inputs, labels in train_loader:\n",
        "    batch_itr+=1\n",
        "\n",
        "    inputs = inputs.to(device)\n",
        "    labels = labels.to(device) - torch.ones_like(labels).to(device)\n",
        "\n",
        "    optimizer.zero_grad()\n",
        "\n",
        "    # Forward pass\n",
        "    outputs = model(inputs)\n",
        "    _, predicted = torch.max(outputs, 1)\n",
        "\n",
        "    loss = criterion(outputs, labels)\n",
        "    \n",
        "    correct += (predicted == labels).sum().item()\n",
        "\n",
        "    for _,class_number in class_mapping.items():\n",
        "      classwise_predicted = (predicted == (class_number-1))\n",
        "      classwise_labels = (labels == (class_number-1))\n",
        "      classwise_true_positive[class_number-1] += torch.logical_and((classwise_predicted == classwise_labels),(classwise_predicted == 1)).sum().item()\n",
        "      classwise_true_negative[class_number-1] += torch.logical_and((classwise_predicted == classwise_labels),(classwise_predicted == 0)).sum().item()\n",
        "      classwise_false_positive[class_number-1] += torch.logical_and((classwise_predicted != classwise_labels),(classwise_predicted == 1)).sum().item()\n",
        "      classwise_false_negative[class_number-1] += torch.logical_and((classwise_predicted != classwise_labels),(classwise_predicted == 0)).sum().item()\n",
        "    \n",
        "\n",
        "    # Backward pass and optimize\n",
        "    loss.backward()\n",
        "    optimizer.step()\n",
        "\n",
        "    running_loss += loss.item() * inputs.size(0)\n",
        "    loop.update()\n",
        "    \n",
        "  loop.close()\n",
        "  \n",
        "  # will have to print classwise precision accuracy and recall as well here\n",
        "\n",
        "  epoch_loss = running_loss / len(train_loader.dataset)\n",
        "\n",
        "  classwise_train_accuracy = (classwise_true_positive + classwise_true_negative)/(classwise_true_positive + classwise_true_negative + classwise_false_positive + classwise_false_negative)\n",
        "  classwise_train_precision = (classwise_true_positive)/(classwise_true_positive + classwise_false_positive)\n",
        "  classwise_train_recall = (classwise_true_positive)/(classwise_true_positive + classwise_false_negative)\n",
        "\n",
        "  train_accuracy = correct / total\n",
        "  train_precision = torch.mean(classwise_train_precision).item()\n",
        "  train_recall = torch.mean(classwise_train_recall).item()\n",
        "\n",
        "  classwise_train_accuracy = [round(element, 4) for element in classwise_train_accuracy.tolist()]\n",
        "  classwise_train_precision = [round(element, 4) for element in classwise_train_precision.tolist()]\n",
        "  classwise_train_recall = [round(element, 4) for element in classwise_train_recall.tolist()]\n",
        "\n",
        "  print(f\"Epoch [{epoch+1}/{EPOCHS}], Training Loss: {epoch_loss:.4f}\")\n",
        "  print(f'Training Accuracy: {train_accuracy:.4f}')\n",
        "  print(f'Training Precision: {train_precision:.4f}')\n",
        "  print(f'Training Recall: {train_recall:.4f}')\n",
        "  print(f'Classwise Training Accuracy: {classwise_train_accuracy}')\n",
        "  print(f'Classwise Training Precision: {classwise_train_precision}')\n",
        "  print(f'Classwise Training Recall: {classwise_train_recall}\\n')\n",
        "\n",
        "  return train_accuracy,epoch_loss,train_precision,train_recall\n",
        "\n",
        "# Validation function\n",
        "def validate_model(model, val_loader):\n",
        "  model.eval()  # Set model to evaluation mode\n",
        "  running_loss = 0.0\n",
        "  \n",
        "  correct = 0\n",
        "  total = len(val_dataset)\n",
        "  \n",
        "  num_classes = len(class_mapping)\n",
        "  classwise_true_positive = torch.tensor([0]*num_classes).to(device)\n",
        "  classwise_true_negative = torch.tensor([0]*num_classes).to(device)\n",
        "  classwise_false_positive = torch.tensor([0]*num_classes).to(device)\n",
        "  classwise_false_negative = torch.tensor([0]*num_classes).to(device)\n",
        "\n",
        "  batch_itr = 0\n",
        "  loop = tqdm(val_loader, leave=True, desc=f\"Validation:\",bar_format=\"{l_bar}{bar}|\")\n",
        "\n",
        "  with torch.no_grad(): \n",
        "    for inputs, labels in val_loader:\n",
        "      batch_itr+=1\n",
        "\n",
        "      inputs = inputs.to(device)\n",
        "      labels = labels.to(device) - torch.ones_like(labels).to(device)\n",
        "      outputs = model(inputs)\n",
        "      _, predicted = torch.max(outputs, 1)\n",
        "\n",
        "      loss = criterion(outputs, labels)\n",
        "    \n",
        "      correct += (predicted == labels).sum().item()\n",
        "\n",
        "      for _,class_number in class_mapping.items():\n",
        "        classwise_predicted = (predicted == (class_number-1))\n",
        "        classwise_labels = (labels == (class_number-1))\n",
        "        classwise_true_positive[class_number-1] += torch.logical_and((classwise_predicted == classwise_labels),(classwise_predicted == 1)).sum().item()\n",
        "        classwise_true_negative[class_number-1] += torch.logical_and((classwise_predicted == classwise_labels),(classwise_predicted == 0)).sum().item()\n",
        "        classwise_false_positive[class_number-1] += torch.logical_and((classwise_predicted != classwise_labels),(classwise_predicted == 1)).sum().item()\n",
        "        classwise_false_negative[class_number-1] += torch.logical_and((classwise_predicted != classwise_labels),(classwise_predicted == 0)).sum().item()\n",
        "\n",
        "\n",
        "\n",
        "      running_loss += loss.item() * inputs.size(0)\n",
        "      loop.update()\n",
        "\n",
        "  loop.close()\n",
        "\n",
        "  # will have to print classwise precision accuracy and recall as well here\n",
        "  \n",
        "  epoch_loss = running_loss / len(val_loader.dataset)\n",
        "  print(f\"Validation Loss: {epoch_loss:.4f}\")\n",
        "\n",
        "  classwise_val_accuracy = (classwise_true_positive + classwise_true_negative)/(classwise_true_positive + classwise_true_negative + classwise_false_positive + classwise_false_negative)\n",
        "  classwise_val_precision = (classwise_true_positive)/(classwise_true_positive + classwise_false_positive)\n",
        "  classwise_val_recall = (classwise_true_positive)/(classwise_true_positive + classwise_false_negative)\n",
        "\n",
        "  val_accuracy = correct / total\n",
        "  val_precision = torch.mean(classwise_val_precision).item()\n",
        "  val_recall = torch.mean(classwise_val_recall).item()\n",
        "\n",
        "  classwise_val_accuracy = [round(element, 4) for element in classwise_val_accuracy.tolist()]\n",
        "  classwise_val_precision = [round(element, 4) for element in classwise_val_precision.tolist()]\n",
        "  classwise_val_recall = [round(element, 4) for element in classwise_val_recall.tolist()]\n",
        "\n",
        "  print(f'Validation Accuracy: {val_accuracy:.4f}')\n",
        "  print(f'Validation Precision: {val_precision:.4f}')\n",
        "  print(f'Validation Recall: {val_recall:.4f}')\n",
        "  print(f'Classwise Validation Accuracy: {classwise_val_accuracy}')\n",
        "  print(f'Classwise Validation Precision: {classwise_val_precision}')\n",
        "  print(f'Classwise Validation Recall: {classwise_val_recall}\\n')\n",
        "\n",
        "  return val_accuracy,epoch_loss,val_precision,val_recall"
      ]
    },
    {
      "cell_type": "code",
      "execution_count": 7,
      "metadata": {
        "colab": {
          "base_uri": "https://localhost:8080/",
          "height": 356
        },
        "id": "yKN0MP8sek_r",
        "outputId": "f101817b-8f50-4a57-8518-b88d60ae2eba"
      },
      "outputs": [
        {
          "name": "stderr",
          "output_type": "stream",
          "text": [
            "Training Epoch 1/60: 100%|██████████|\n"
          ]
        },
        {
          "name": "stdout",
          "output_type": "stream",
          "text": [
            "Epoch [1/60], Training Loss: 1.8963\n",
            "Training Accuracy: 0.3588\n",
            "Training Precision: 0.2849\n",
            "Training Recall: 0.2650\n",
            "Classwise Training Accuracy: [0.9245, 0.8314, 0.8895, 0.9197, 0.8156, 0.8695, 0.9625, 0.9646, 0.9319, 0.9527, 0.853, 0.8403, 0.9625]\n",
            "Classwise Training Precision: [0.3678, 0.3961, 0.5188, 0.2585, 0.2847, 0.2459, 0.2381, 0.0, 0.275, 0.2955, 0.4049, 0.327, 0.0909]\n",
            "Classwise Training Recall: [0.093, 0.5328, 0.5679, 0.1821, 0.4197, 0.2009, 0.0292, 0.0, 0.0746, 0.0613, 0.5857, 0.692, 0.0058]\n",
            "\n"
          ]
        },
        {
          "name": "stderr",
          "output_type": "stream",
          "text": [
            "Validation:: 100%|██████████|\n"
          ]
        },
        {
          "name": "stdout",
          "output_type": "stream",
          "text": [
            "Validation Loss: 1.3382\n",
            "Validation Accuracy: 0.5517\n",
            "Validation Precision: 0.5197\n",
            "Validation Recall: 0.4492\n",
            "Classwise Validation Accuracy: [0.9404, 0.8892, 0.9471, 0.9404, 0.8784, 0.885, 0.9578, 0.9562, 0.9371, 0.9537, 0.9479, 0.9057, 0.9644]\n",
            "Classwise Validation Precision: [0.697, 0.5657, 0.7923, 0.5, 0.4737, 0.3969, 0.4043, 0.2857, 0.44, 0.4571, 0.7484, 0.4951, 0.5]\n",
            "Classwise Validation Recall: [0.2706, 0.7, 0.7357, 0.0556, 0.7279, 0.4643, 0.4524, 0.1951, 0.1507, 0.3019, 0.8286, 0.9107, 0.0465]\n",
            "\n",
            "Best Validation Accuracy: 0.5517\n",
            "\n"
          ]
        },
        {
          "name": "stderr",
          "output_type": "stream",
          "text": [
            "Training Epoch 2/60: 100%|██████████|\n"
          ]
        },
        {
          "name": "stdout",
          "output_type": "stream",
          "text": [
            "Epoch [2/60], Training Loss: 1.2352\n",
            "Training Accuracy: 0.6044\n",
            "Training Precision: 0.5606\n",
            "Training Recall: 0.5309\n",
            "Classwise Training Accuracy: [0.9465, 0.8915, 0.9387, 0.9304, 0.9053, 0.9162, 0.971, 0.9629, 0.93, 0.95, 0.9516, 0.9541, 0.9605]\n",
            "Classwise Training Precision: [0.6826, 0.5769, 0.7435, 0.4307, 0.5738, 0.538, 0.6087, 0.4143, 0.4211, 0.4221, 0.7816, 0.7119, 0.3827]\n",
            "Classwise Training Recall: [0.4564, 0.6625, 0.7143, 0.5017, 0.6241, 0.6473, 0.4912, 0.1726, 0.4068, 0.3962, 0.8054, 0.8438, 0.1792]\n",
            "\n"
          ]
        },
        {
          "name": "stderr",
          "output_type": "stream",
          "text": [
            "Validation:: 100%|██████████|\n"
          ]
        },
        {
          "name": "stdout",
          "output_type": "stream",
          "text": [
            "Validation Loss: 1.0384\n",
            "Validation Accuracy: 0.6510\n",
            "Validation Precision: 0.6730\n",
            "Validation Recall: 0.5742\n",
            "Classwise Validation Accuracy: [0.957, 0.8784, 0.9578, 0.9553, 0.9322, 0.9446, 0.9661, 0.9694, 0.9446, 0.9421, 0.9653, 0.9735, 0.9156]\n",
            "Classwise Validation Precision: [0.6941, 0.527, 0.9009, 0.6875, 0.7647, 0.732, 1.0, 0.6111, 0.5625, 0.3924, 0.8356, 0.8175, 0.2243]\n",
            "Classwise Validation Recall: [0.6941, 0.7937, 0.7143, 0.4583, 0.5735, 0.6339, 0.0238, 0.2683, 0.3699, 0.5849, 0.8714, 0.9196, 0.5581]\n",
            "\n",
            "Best Validation Accuracy: 0.6510\n",
            "\n"
          ]
        },
        {
          "name": "stderr",
          "output_type": "stream",
          "text": [
            "Training Epoch 3/60: 100%|██████████|\n"
          ]
        },
        {
          "name": "stdout",
          "output_type": "stream",
          "text": [
            "Epoch [3/60], Training Loss: 0.9353\n",
            "Training Accuracy: 0.7005\n",
            "Training Precision: 0.6521\n",
            "Training Recall: 0.6466\n",
            "Classwise Training Accuracy: [0.9555, 0.9251, 0.9461, 0.9417, 0.9442, 0.9467, 0.9751, 0.9675, 0.9533, 0.9545, 0.965, 0.9699, 0.9564]\n",
            "Classwise Training Precision: [0.6905, 0.7047, 0.777, 0.5117, 0.757, 0.7015, 0.6562, 0.5301, 0.6288, 0.4767, 0.8445, 0.8283, 0.3709]\n",
            "Classwise Training Recall: [0.6744, 0.7422, 0.7464, 0.6014, 0.7445, 0.7344, 0.614, 0.5238, 0.5627, 0.434, 0.8536, 0.8504, 0.3237]\n",
            "\n"
          ]
        },
        {
          "name": "stderr",
          "output_type": "stream",
          "text": [
            "Validation:: 100%|██████████|\n"
          ]
        },
        {
          "name": "stdout",
          "output_type": "stream",
          "text": [
            "Validation Loss: 0.9168\n",
            "Validation Accuracy: 0.7221\n",
            "Validation Precision: 0.7009\n",
            "Validation Recall: 0.6881\n",
            "Classwise Validation Accuracy: [0.9694, 0.9289, 0.9636, 0.952, 0.9512, 0.9413, 0.981, 0.9777, 0.9495, 0.9438, 0.9677, 0.9735, 0.9446]\n",
            "Classwise Validation Precision: [0.8529, 0.7056, 0.9364, 0.625, 0.9326, 0.6395, 0.7111, 0.6842, 0.6364, 0.4194, 0.8531, 0.803, 0.3125]\n",
            "Classwise Validation Recall: [0.6824, 0.7937, 0.7357, 0.4861, 0.6103, 0.8393, 0.7619, 0.6341, 0.3836, 0.7358, 0.8714, 0.9464, 0.4651]\n",
            "\n",
            "Best Validation Accuracy: 0.7221\n",
            "\n"
          ]
        },
        {
          "name": "stderr",
          "output_type": "stream",
          "text": [
            "Training Epoch 4/60: 100%|██████████|\n"
          ]
        },
        {
          "name": "stdout",
          "output_type": "stream",
          "text": [
            "Epoch [4/60], Training Loss: 0.7820\n",
            "Training Accuracy: 0.7468\n",
            "Training Precision: 0.7034\n",
            "Training Recall: 0.7029\n",
            "Classwise Training Accuracy: [0.9683, 0.9366, 0.9572, 0.9467, 0.9545, 0.9533, 0.9807, 0.9753, 0.9551, 0.9578, 0.9691, 0.978, 0.9611]\n",
            "Classwise Training Precision: [0.7811, 0.761, 0.8372, 0.5473, 0.8022, 0.7307, 0.7421, 0.6237, 0.6305, 0.5178, 0.8661, 0.8651, 0.4394]\n",
            "Classwise Training Recall: [0.7674, 0.7563, 0.7804, 0.6357, 0.792, 0.7812, 0.6901, 0.7202, 0.6305, 0.4811, 0.8661, 0.9018, 0.3353]\n",
            "\n"
          ]
        },
        {
          "name": "stderr",
          "output_type": "stream",
          "text": [
            "Validation:: 100%|██████████|\n"
          ]
        },
        {
          "name": "stdout",
          "output_type": "stream",
          "text": [
            "Validation Loss: 0.7297\n",
            "Validation Accuracy: 0.7659\n",
            "Validation Precision: 0.7371\n",
            "Validation Recall: 0.7432\n",
            "Classwise Validation Accuracy: [0.9752, 0.9504, 0.9686, 0.9247, 0.9653, 0.9653, 0.9868, 0.9727, 0.9471, 0.9628, 0.9711, 0.981, 0.9611]\n",
            "Classwise Validation Precision: [0.8235, 0.8623, 0.9554, 0.4215, 0.9196, 0.7869, 0.8611, 0.5714, 0.5789, 0.5645, 0.8723, 0.9009, 0.4643]\n",
            "Classwise Validation Recall: [0.8235, 0.7437, 0.7643, 0.7083, 0.7574, 0.8571, 0.7381, 0.7805, 0.4521, 0.6604, 0.8786, 0.8929, 0.6047]\n",
            "\n",
            "Best Validation Accuracy: 0.7659\n",
            "\n"
          ]
        },
        {
          "name": "stderr",
          "output_type": "stream",
          "text": [
            "Training Epoch 5/60: 100%|██████████|\n"
          ]
        },
        {
          "name": "stdout",
          "output_type": "stream",
          "text": [
            "Epoch [5/60], Training Loss: 0.6370\n",
            "Training Accuracy: 0.7927\n",
            "Training Precision: 0.7613\n",
            "Training Recall: 0.7633\n",
            "Classwise Training Accuracy: [0.9739, 0.9498, 0.9629, 0.9566, 0.9599, 0.9654, 0.9848, 0.9833, 0.9584, 0.9654, 0.9755, 0.9804, 0.9691]\n",
            "Classwise Training Precision: [0.8239, 0.8194, 0.8532, 0.6299, 0.8227, 0.8125, 0.8212, 0.7208, 0.6587, 0.5991, 0.8889, 0.8763, 0.5706]\n",
            "Classwise Training Recall: [0.8023, 0.7937, 0.8196, 0.6667, 0.8212, 0.8125, 0.7251, 0.8452, 0.6542, 0.6274, 0.9, 0.9174, 0.5376]\n",
            "\n"
          ]
        },
        {
          "name": "stderr",
          "output_type": "stream",
          "text": [
            "Validation:: 100%|██████████|\n"
          ]
        },
        {
          "name": "stdout",
          "output_type": "stream",
          "text": [
            "Validation Loss: 0.5985\n",
            "Validation Accuracy: 0.8098\n",
            "Validation Precision: 0.7914\n",
            "Validation Recall: 0.7869\n",
            "Classwise Validation Accuracy: [0.9768, 0.9512, 0.9694, 0.9669, 0.9719, 0.9694, 0.9868, 0.9876, 0.9644, 0.9595, 0.9686, 0.9826, 0.9644]\n",
            "Classwise Validation Precision: [0.8065, 0.8301, 0.8992, 0.75, 0.918, 0.8099, 1.0, 0.7826, 0.6974, 0.5263, 0.8984, 0.8699, 0.5]\n",
            "Classwise Validation Recall: [0.8824, 0.7937, 0.8286, 0.6667, 0.8235, 0.875, 0.619, 0.878, 0.726, 0.7547, 0.8214, 0.9554, 0.6047]\n",
            "\n",
            "Best Validation Accuracy: 0.8098\n",
            "\n"
          ]
        },
        {
          "name": "stderr",
          "output_type": "stream",
          "text": [
            "Training Epoch 6/60: 100%|██████████|\n"
          ]
        },
        {
          "name": "stdout",
          "output_type": "stream",
          "text": [
            "Epoch [6/60], Training Loss: 0.5683\n",
            "Training Accuracy: 0.8178\n",
            "Training Precision: 0.7928\n",
            "Training Recall: 0.7894\n",
            "Classwise Training Accuracy: [0.9798, 0.9559, 0.9642, 0.9621, 0.9634, 0.9667, 0.9864, 0.986, 0.9675, 0.9718, 0.9794, 0.9819, 0.9706]\n",
            "Classwise Training Precision: [0.8618, 0.8381, 0.8496, 0.6754, 0.8351, 0.8109, 0.8477, 0.7874, 0.7276, 0.6777, 0.9122, 0.8913, 0.5915]\n",
            "Classwise Training Recall: [0.8517, 0.825, 0.8375, 0.7079, 0.8412, 0.8326, 0.7485, 0.8155, 0.7424, 0.6745, 0.9089, 0.9152, 0.5607]\n",
            "\n"
          ]
        },
        {
          "name": "stderr",
          "output_type": "stream",
          "text": [
            "Validation:: 100%|██████████|\n"
          ]
        },
        {
          "name": "stdout",
          "output_type": "stream",
          "text": [
            "Validation Loss: 0.5824\n",
            "Validation Accuracy: 0.8280\n",
            "Validation Precision: 0.8144\n",
            "Validation Recall: 0.8147\n",
            "Classwise Validation Accuracy: [0.9801, 0.952, 0.9752, 0.9711, 0.9735, 0.9727, 0.9876, 0.9876, 0.9677, 0.9653, 0.9793, 0.9669, 0.9768]\n",
            "Classwise Validation Precision: [0.828, 0.7865, 0.9911, 0.7761, 0.9483, 0.9158, 0.8649, 0.7708, 0.7833, 0.5647, 0.9137, 0.7609, 0.6829]\n",
            "Classwise Validation Recall: [0.9059, 0.875, 0.7929, 0.7222, 0.8088, 0.7768, 0.7619, 0.9024, 0.6438, 0.9057, 0.9071, 0.9375, 0.6512]\n",
            "\n",
            "Best Validation Accuracy: 0.8280\n",
            "\n"
          ]
        },
        {
          "name": "stderr",
          "output_type": "stream",
          "text": [
            "Training Epoch 7/60: 100%|██████████|\n"
          ]
        },
        {
          "name": "stdout",
          "output_type": "stream",
          "text": [
            "Epoch [7/60], Training Loss: 0.5092\n",
            "Training Accuracy: 0.8318\n",
            "Training Precision: 0.8046\n",
            "Training Recall: 0.8029\n",
            "Classwise Training Accuracy: [0.9772, 0.9557, 0.9679, 0.9699, 0.9722, 0.9708, 0.986, 0.985, 0.9685, 0.9699, 0.9811, 0.986, 0.9734]\n",
            "Classwise Training Precision: [0.8437, 0.8284, 0.8741, 0.7425, 0.8668, 0.8509, 0.8323, 0.7654, 0.7483, 0.6473, 0.9134, 0.9148, 0.6325]\n",
            "Classwise Training Recall: [0.8314, 0.8375, 0.8429, 0.7629, 0.8905, 0.8281, 0.7544, 0.8155, 0.7254, 0.684, 0.9232, 0.9353, 0.6069]\n",
            "\n"
          ]
        },
        {
          "name": "stderr",
          "output_type": "stream",
          "text": [
            "Validation:: 100%|██████████|\n"
          ]
        },
        {
          "name": "stdout",
          "output_type": "stream",
          "text": [
            "Validation Loss: 0.5266\n",
            "Validation Accuracy: 0.8453\n",
            "Validation Precision: 0.8238\n",
            "Validation Recall: 0.8167\n",
            "Classwise Validation Accuracy: [0.9876, 0.9686, 0.9744, 0.9677, 0.9735, 0.9644, 0.9892, 0.9859, 0.9719, 0.9694, 0.9851, 0.9801, 0.9727]\n",
            "Classwise Validation Precision: [0.9487, 0.8765, 0.9504, 0.7895, 0.9, 0.7518, 0.9143, 0.7609, 0.8, 0.66, 0.9236, 0.8438, 0.5893]\n",
            "Classwise Validation Recall: [0.8706, 0.8875, 0.8214, 0.625, 0.8603, 0.9196, 0.7619, 0.8537, 0.7123, 0.6226, 0.95, 0.9643, 0.7674]\n",
            "\n",
            "Best Validation Accuracy: 0.8453\n",
            "\n"
          ]
        },
        {
          "name": "stderr",
          "output_type": "stream",
          "text": [
            "Training Epoch 8/60: 100%|██████████|\n"
          ]
        },
        {
          "name": "stdout",
          "output_type": "stream",
          "text": [
            "Epoch [8/60], Training Loss: 0.4188\n",
            "Training Accuracy: 0.8631\n",
            "Training Precision: 0.8414\n",
            "Training Recall: 0.8393\n",
            "Classwise Training Accuracy: [0.9858, 0.965, 0.9755, 0.973, 0.9763, 0.9757, 0.9864, 0.9901, 0.9745, 0.9757, 0.9833, 0.9864, 0.9784]\n",
            "Classwise Training Precision: [0.8986, 0.8615, 0.9031, 0.7649, 0.8845, 0.8784, 0.8431, 0.8371, 0.7879, 0.7136, 0.9315, 0.9263, 0.7073]\n",
            "Classwise Training Recall: [0.9012, 0.875, 0.8821, 0.7938, 0.9088, 0.8549, 0.7544, 0.8869, 0.7932, 0.7406, 0.9232, 0.9263, 0.6705]\n",
            "\n"
          ]
        },
        {
          "name": "stderr",
          "output_type": "stream",
          "text": [
            "Validation:: 100%|██████████|\n"
          ]
        },
        {
          "name": "stdout",
          "output_type": "stream",
          "text": [
            "Validation Loss: 0.6738\n",
            "Validation Accuracy: 0.8271\n",
            "Validation Precision: 0.8090\n",
            "Validation Recall: 0.8196\n",
            "Classwise Validation Accuracy: [0.9835, 0.9479, 0.9735, 0.9719, 0.9777, 0.9785, 0.9884, 0.9851, 0.9653, 0.9636, 0.9702, 0.9801, 0.9686]\n",
            "Classwise Validation Precision: [0.8652, 0.787, 0.9909, 0.7794, 0.9504, 0.8707, 0.9375, 0.7018, 0.7123, 0.5495, 0.9727, 0.8438, 0.5556]\n",
            "Classwise Validation Recall: [0.9059, 0.8313, 0.7786, 0.7361, 0.8456, 0.9018, 0.7143, 0.9756, 0.7123, 0.9434, 0.7643, 0.9643, 0.5814]\n",
            "\n",
            "Best Validation Accuracy: 0.8453\n",
            "\n"
          ]
        },
        {
          "name": "stderr",
          "output_type": "stream",
          "text": [
            "Training Epoch 9/60: 100%|██████████|\n"
          ]
        },
        {
          "name": "stdout",
          "output_type": "stream",
          "text": [
            "Epoch [9/60], Training Loss: 0.4231\n",
            "Training Accuracy: 0.8619\n",
            "Training Precision: 0.8405\n",
            "Training Recall: 0.8406\n",
            "Classwise Training Accuracy: [0.9844, 0.9619, 0.9741, 0.9708, 0.9774, 0.9759, 0.9866, 0.9874, 0.9755, 0.978, 0.9837, 0.987, 0.9811]\n",
            "Classwise Training Precision: [0.8895, 0.8583, 0.8931, 0.7614, 0.8911, 0.8702, 0.8272, 0.8129, 0.7857, 0.7512, 0.9333, 0.9268, 0.7263]\n",
            "Classwise Training Recall: [0.8895, 0.8516, 0.8804, 0.7457, 0.9106, 0.8683, 0.7836, 0.8274, 0.8203, 0.7406, 0.925, 0.933, 0.7514]\n",
            "\n"
          ]
        },
        {
          "name": "stderr",
          "output_type": "stream",
          "text": [
            "Validation:: 100%|██████████|\n"
          ]
        },
        {
          "name": "stdout",
          "output_type": "stream",
          "text": [
            "Validation Loss: 0.5879\n",
            "Validation Accuracy: 0.8255\n",
            "Validation Precision: 0.8122\n",
            "Validation Recall: 0.8077\n",
            "Classwise Validation Accuracy: [0.981, 0.9702, 0.9752, 0.9595, 0.976, 0.9768, 0.9851, 0.9942, 0.957, 0.9562, 0.9826, 0.9843, 0.9529]\n",
            "Classwise Validation Precision: [0.837, 0.9493, 0.9167, 0.96, 0.982, 0.92, 0.8, 0.8864, 0.5913, 0.5, 0.9343, 0.8908, 0.3906]\n",
            "Classwise Validation Recall: [0.9059, 0.8188, 0.8643, 0.3333, 0.8015, 0.8214, 0.7619, 0.9512, 0.9315, 0.8679, 0.9143, 0.9464, 0.5814]\n",
            "\n",
            "Best Validation Accuracy: 0.8453\n",
            "\n"
          ]
        },
        {
          "name": "stderr",
          "output_type": "stream",
          "text": [
            "Training Epoch 10/60: 100%|██████████|\n"
          ]
        },
        {
          "name": "stdout",
          "output_type": "stream",
          "text": [
            "Epoch [10/60], Training Loss: 0.3625\n",
            "Training Accuracy: 0.8868\n",
            "Training Precision: 0.8690\n",
            "Training Recall: 0.8655\n",
            "Classwise Training Accuracy: [0.9887, 0.9712, 0.9769, 0.9761, 0.9831, 0.9813, 0.9876, 0.9922, 0.9798, 0.9809, 0.985, 0.9895, 0.9813]\n",
            "Classwise Training Precision: [0.9238, 0.8823, 0.9088, 0.7907, 0.9267, 0.9048, 0.8627, 0.8824, 0.8408, 0.7668, 0.934, 0.9287, 0.744]\n",
            "Classwise Training Recall: [0.9157, 0.9016, 0.8893, 0.8179, 0.9234, 0.8906, 0.7719, 0.8929, 0.8237, 0.8066, 0.9357, 0.9598, 0.7225]\n",
            "\n"
          ]
        },
        {
          "name": "stderr",
          "output_type": "stream",
          "text": [
            "Validation:: 100%|██████████|\n"
          ]
        },
        {
          "name": "stdout",
          "output_type": "stream",
          "text": [
            "Validation Loss: 0.4184\n",
            "Validation Accuracy: 0.8751\n",
            "Validation Precision: 0.8619\n",
            "Validation Recall: 0.8587\n",
            "Classwise Validation Accuracy: [0.9826, 0.9653, 0.9818, 0.9793, 0.9801, 0.9727, 0.9884, 0.9901, 0.9727, 0.9843, 0.9826, 0.9892, 0.981]\n",
            "Classwise Validation Precision: [0.8478, 0.8782, 0.9214, 0.8983, 0.9308, 0.816, 0.9375, 0.7843, 0.7857, 0.8542, 0.9281, 0.9304, 0.6923]\n",
            "Classwise Validation Recall: [0.9176, 0.8562, 0.9214, 0.7361, 0.8897, 0.9107, 0.7143, 0.9756, 0.7534, 0.7736, 0.9214, 0.9554, 0.8372]\n",
            "\n",
            "Best Validation Accuracy: 0.8751\n",
            "\n"
          ]
        },
        {
          "name": "stderr",
          "output_type": "stream",
          "text": [
            "Training Epoch 11/60: 100%|██████████|\n"
          ]
        },
        {
          "name": "stdout",
          "output_type": "stream",
          "text": [
            "Epoch [11/60], Training Loss: 0.3236\n",
            "Training Accuracy: 0.8952\n",
            "Training Precision: 0.8741\n",
            "Training Recall: 0.8715\n",
            "Classwise Training Accuracy: [0.9899, 0.9767, 0.9784, 0.978, 0.9839, 0.9825, 0.9881, 0.9922, 0.9817, 0.978, 0.9895, 0.9901, 0.9815]\n",
            "Classwise Training Precision: [0.9275, 0.923, 0.8957, 0.8309, 0.9288, 0.9007, 0.8645, 0.8736, 0.8433, 0.7465, 0.9537, 0.9329, 0.7427]\n",
            "Classwise Training Recall: [0.9302, 0.8984, 0.9196, 0.7938, 0.9288, 0.9107, 0.7836, 0.9048, 0.8576, 0.75, 0.9554, 0.9621, 0.7341]\n",
            "\n"
          ]
        },
        {
          "name": "stderr",
          "output_type": "stream",
          "text": [
            "Validation:: 100%|██████████|\n"
          ]
        },
        {
          "name": "stdout",
          "output_type": "stream",
          "text": [
            "Validation Loss: 0.4444\n",
            "Validation Accuracy: 0.8743\n",
            "Validation Precision: 0.8534\n",
            "Validation Recall: 0.8437\n",
            "Classwise Validation Accuracy: [0.9851, 0.9644, 0.9843, 0.9785, 0.981, 0.9818, 0.9884, 0.9801, 0.9694, 0.9859, 0.9859, 0.9868, 0.9768]\n",
            "Classwise Validation Precision: [0.8764, 0.8545, 0.969, 0.9107, 0.8951, 0.875, 0.8889, 0.6441, 0.7647, 0.8462, 0.9424, 0.9, 0.7273]\n",
            "Classwise Validation Recall: [0.9176, 0.8813, 0.8929, 0.7083, 0.9412, 0.9375, 0.7619, 0.9268, 0.7123, 0.8302, 0.9357, 0.9643, 0.5581]\n",
            "\n",
            "Best Validation Accuracy: 0.8751\n",
            "\n"
          ]
        },
        {
          "name": "stderr",
          "output_type": "stream",
          "text": [
            "Training Epoch 12/60: 100%|██████████|\n"
          ]
        },
        {
          "name": "stdout",
          "output_type": "stream",
          "text": [
            "Epoch [12/60], Training Loss: 0.2776\n",
            "Training Accuracy: 0.9088\n",
            "Training Precision: 0.8927\n",
            "Training Recall: 0.8909\n",
            "Classwise Training Accuracy: [0.9903, 0.9751, 0.9821, 0.9811, 0.9862, 0.9846, 0.9901, 0.9922, 0.9837, 0.9848, 0.9909, 0.992, 0.9846]\n",
            "Classwise Training Precision: [0.9355, 0.91, 0.9216, 0.8491, 0.9349, 0.921, 0.8868, 0.8779, 0.8649, 0.8136, 0.9558, 0.9455, 0.7882]\n",
            "Classwise Training Recall: [0.9273, 0.9, 0.9232, 0.8316, 0.9434, 0.9107, 0.8246, 0.8988, 0.8678, 0.8443, 0.9661, 0.9688, 0.7746]\n",
            "\n"
          ]
        },
        {
          "name": "stderr",
          "output_type": "stream",
          "text": [
            "Validation:: 100%|██████████|\n"
          ]
        },
        {
          "name": "stdout",
          "output_type": "stream",
          "text": [
            "Validation Loss: 0.4359\n",
            "Validation Accuracy: 0.8809\n",
            "Validation Precision: 0.8651\n",
            "Validation Recall: 0.8666\n",
            "Classwise Validation Accuracy: [0.9876, 0.9669, 0.9835, 0.9793, 0.9818, 0.981, 0.9917, 0.9917, 0.9702, 0.9744, 0.9884, 0.9909, 0.9744]\n",
            "Classwise Validation Precision: [0.907, 0.8409, 0.9478, 0.9608, 0.9914, 0.887, 0.9444, 0.8298, 0.7681, 0.6375, 0.9773, 0.9391, 0.6154]\n",
            "Classwise Validation Recall: [0.9176, 0.925, 0.9071, 0.6806, 0.8456, 0.9107, 0.8095, 0.9512, 0.726, 0.9623, 0.9214, 0.9643, 0.7442]\n",
            "\n",
            "Best Validation Accuracy: 0.8809\n",
            "\n"
          ]
        },
        {
          "name": "stderr",
          "output_type": "stream",
          "text": [
            "Training Epoch 13/60: 100%|██████████|\n"
          ]
        },
        {
          "name": "stdout",
          "output_type": "stream",
          "text": [
            "Epoch [13/60], Training Loss: 0.2691\n",
            "Training Accuracy: 0.9094\n",
            "Training Precision: 0.8954\n",
            "Training Recall: 0.8915\n",
            "Classwise Training Accuracy: [0.9891, 0.9792, 0.9835, 0.9784, 0.9858, 0.9813, 0.9903, 0.9934, 0.9854, 0.985, 0.9909, 0.9903, 0.9862]\n",
            "Classwise Training Precision: [0.9267, 0.9218, 0.927, 0.8321, 0.93, 0.8923, 0.9079, 0.8953, 0.8836, 0.8174, 0.9624, 0.9387, 0.8046]\n",
            "Classwise Training Recall: [0.9186, 0.9203, 0.9304, 0.8007, 0.9453, 0.9062, 0.807, 0.9167, 0.8746, 0.8443, 0.9589, 0.9576, 0.8092]\n",
            "\n"
          ]
        },
        {
          "name": "stderr",
          "output_type": "stream",
          "text": [
            "Validation:: 100%|██████████|\n"
          ]
        },
        {
          "name": "stdout",
          "output_type": "stream",
          "text": [
            "Validation Loss: 0.5322\n",
            "Validation Accuracy: 0.8685\n",
            "Validation Precision: 0.8565\n",
            "Validation Recall: 0.8620\n",
            "Classwise Validation Accuracy: [0.9909, 0.9644, 0.9744, 0.962, 0.9876, 0.9793, 0.9859, 0.9959, 0.9735, 0.9826, 0.9859, 0.9876, 0.9669]\n",
            "Classwise Validation Precision: [0.9512, 0.968, 0.8344, 0.63, 0.984, 0.9888, 0.7907, 0.95, 0.7733, 0.8636, 0.9424, 0.9369, 0.5205]\n",
            "Classwise Validation Recall: [0.9176, 0.7563, 0.9714, 0.875, 0.9044, 0.7857, 0.8095, 0.9268, 0.7945, 0.717, 0.9357, 0.9286, 0.8837]\n",
            "\n",
            "Best Validation Accuracy: 0.8809\n",
            "\n"
          ]
        },
        {
          "name": "stderr",
          "output_type": "stream",
          "text": [
            "Training Epoch 14/60: 100%|██████████|\n"
          ]
        },
        {
          "name": "stdout",
          "output_type": "stream",
          "text": [
            "Epoch [14/60], Training Loss: 0.2706\n",
            "Training Accuracy: 0.9121\n",
            "Training Precision: 0.9012\n",
            "Training Recall: 0.9029\n",
            "Classwise Training Accuracy: [0.9907, 0.9757, 0.978, 0.9794, 0.9866, 0.9846, 0.9907, 0.9946, 0.9879, 0.9866, 0.9893, 0.9909, 0.9891]\n",
            "Classwise Training Precision: [0.9235, 0.9117, 0.9096, 0.8328, 0.9383, 0.9229, 0.9091, 0.9128, 0.8907, 0.8356, 0.9568, 0.9489, 0.8226]\n",
            "Classwise Training Recall: [0.9477, 0.9031, 0.8982, 0.8213, 0.9434, 0.9085, 0.8187, 0.9345, 0.9119, 0.8632, 0.95, 0.9531, 0.8844]\n",
            "\n"
          ]
        },
        {
          "name": "stderr",
          "output_type": "stream",
          "text": [
            "Validation:: 100%|██████████|\n"
          ]
        },
        {
          "name": "stdout",
          "output_type": "stream",
          "text": [
            "Validation Loss: 0.3837\n",
            "Validation Accuracy: 0.8850\n",
            "Validation Precision: 0.8694\n",
            "Validation Recall: 0.8628\n",
            "Classwise Validation Accuracy: [0.9892, 0.9711, 0.9868, 0.9793, 0.9768, 0.9835, 0.9868, 0.9967, 0.9727, 0.9818, 0.9868, 0.9835, 0.9752]\n",
            "Classwise Validation Precision: [0.9186, 0.8931, 0.9429, 0.8983, 0.875, 0.8833, 0.825, 0.9512, 0.8448, 0.8163, 0.9429, 0.8966, 0.614]\n",
            "Classwise Validation Recall: [0.9294, 0.8875, 0.9429, 0.7361, 0.9265, 0.9464, 0.7857, 0.9512, 0.6712, 0.7547, 0.9429, 0.9286, 0.814]\n",
            "\n",
            "Best Validation Accuracy: 0.8850\n",
            "\n"
          ]
        },
        {
          "name": "stderr",
          "output_type": "stream",
          "text": [
            "Training Epoch 15/60: 100%|██████████|\n"
          ]
        },
        {
          "name": "stdout",
          "output_type": "stream",
          "text": [
            "Epoch [15/60], Training Loss: 0.2214\n",
            "Training Accuracy: 0.9286\n",
            "Training Precision: 0.9207\n",
            "Training Recall: 0.9178\n",
            "Classwise Training Accuracy: [0.992, 0.9827, 0.9868, 0.9848, 0.9858, 0.9856, 0.9916, 0.9949, 0.987, 0.9922, 0.9914, 0.9914, 0.9911]\n",
            "Classwise Training Precision: [0.9472, 0.9277, 0.9397, 0.8754, 0.9362, 0.9257, 0.9062, 0.9133, 0.9028, 0.9028, 0.9642, 0.9452, 0.8824]\n",
            "Classwise Training Recall: [0.939, 0.9422, 0.9464, 0.8694, 0.938, 0.9174, 0.848, 0.9405, 0.8814, 0.9198, 0.9607, 0.9621, 0.8671]\n",
            "\n"
          ]
        },
        {
          "name": "stderr",
          "output_type": "stream",
          "text": [
            "Validation:: 100%|██████████|\n"
          ]
        },
        {
          "name": "stdout",
          "output_type": "stream",
          "text": [
            "Validation Loss: 0.4047\n",
            "Validation Accuracy: 0.8842\n",
            "Validation Precision: 0.8757\n",
            "Validation Recall: 0.8639\n",
            "Classwise Validation Accuracy: [0.9917, 0.9694, 0.9843, 0.976, 0.9835, 0.9801, 0.9901, 0.9926, 0.9744, 0.9843, 0.9868, 0.981, 0.9744]\n",
            "Classwise Validation Precision: [0.963, 0.8514, 0.9481, 0.8525, 0.9531, 0.8929, 0.9167, 0.9, 0.8088, 0.9048, 0.9493, 0.856, 0.5882]\n",
            "Classwise Validation Recall: [0.9176, 0.9312, 0.9143, 0.7222, 0.8971, 0.8929, 0.7857, 0.878, 0.7534, 0.717, 0.9357, 0.9554, 0.9302]\n",
            "\n",
            "Best Validation Accuracy: 0.8850\n",
            "\n"
          ]
        },
        {
          "name": "stderr",
          "output_type": "stream",
          "text": [
            "Training Epoch 16/60: 100%|██████████|\n"
          ]
        },
        {
          "name": "stdout",
          "output_type": "stream",
          "text": [
            "Epoch [16/60], Training Loss: 0.1843\n",
            "Training Accuracy: 0.9387\n",
            "Training Precision: 0.9266\n",
            "Training Recall: 0.9231\n",
            "Classwise Training Accuracy: [0.9949, 0.9876, 0.9889, 0.9876, 0.9879, 0.9885, 0.9909, 0.9957, 0.9907, 0.9876, 0.9955, 0.9924, 0.9891]\n",
            "Classwise Training Precision: [0.965, 0.956, 0.9502, 0.8863, 0.9374, 0.9434, 0.8848, 0.9509, 0.9167, 0.8585, 0.9821, 0.9536, 0.8614]\n",
            "Classwise Training Recall: [0.9622, 0.95, 0.9536, 0.9107, 0.9562, 0.9308, 0.8538, 0.9226, 0.9322, 0.8585, 0.9786, 0.9643, 0.8266]\n",
            "\n"
          ]
        },
        {
          "name": "stderr",
          "output_type": "stream",
          "text": [
            "Validation:: 100%|██████████|\n"
          ]
        },
        {
          "name": "stdout",
          "output_type": "stream",
          "text": [
            "Validation Loss: 0.4723\n",
            "Validation Accuracy: 0.8817\n",
            "Validation Precision: 0.8586\n",
            "Validation Recall: 0.8686\n",
            "Classwise Validation Accuracy: [0.9851, 0.976, 0.9801, 0.9735, 0.9868, 0.9843, 0.9901, 0.9892, 0.9735, 0.9768, 0.9917, 0.9884, 0.9677]\n",
            "Classwise Validation Precision: [0.8681, 0.9119, 0.9603, 0.9348, 0.9615, 0.9346, 0.8947, 0.7692, 0.8154, 0.7049, 0.971, 0.9083, 0.5263]\n",
            "Classwise Validation Recall: [0.9294, 0.9062, 0.8643, 0.5972, 0.9191, 0.8929, 0.8095, 0.9756, 0.726, 0.8113, 0.9571, 0.9732, 0.9302]\n",
            "\n",
            "Best Validation Accuracy: 0.8850\n",
            "\n"
          ]
        },
        {
          "name": "stderr",
          "output_type": "stream",
          "text": [
            "Training Epoch 17/60: 100%|██████████|\n"
          ]
        },
        {
          "name": "stdout",
          "output_type": "stream",
          "text": [
            "Epoch [17/60], Training Loss: 0.1903\n",
            "Training Accuracy: 0.9387\n",
            "Training Precision: 0.9289\n",
            "Training Recall: 0.9280\n",
            "Classwise Training Accuracy: [0.9944, 0.9837, 0.9879, 0.9881, 0.9893, 0.9895, 0.9918, 0.9946, 0.9899, 0.9918, 0.9942, 0.9911, 0.9909]\n",
            "Classwise Training Precision: [0.9594, 0.9431, 0.9497, 0.8896, 0.9542, 0.9401, 0.9068, 0.908, 0.9212, 0.8981, 0.9733, 0.9451, 0.8862]\n",
            "Classwise Training Recall: [0.9622, 0.9328, 0.9446, 0.9141, 0.9507, 0.9464, 0.8538, 0.9405, 0.9119, 0.9151, 0.9768, 0.9598, 0.8555]\n",
            "\n"
          ]
        },
        {
          "name": "stderr",
          "output_type": "stream",
          "text": [
            "Validation:: 100%|██████████|\n"
          ]
        },
        {
          "name": "stdout",
          "output_type": "stream",
          "text": [
            "Validation Loss: 0.4485\n",
            "Validation Accuracy: 0.8867\n",
            "Validation Precision: 0.8702\n",
            "Validation Recall: 0.8749\n",
            "Classwise Validation Accuracy: [0.9892, 0.9702, 0.9777, 0.9777, 0.9826, 0.9843, 0.9843, 0.9926, 0.9719, 0.9851, 0.9859, 0.9901, 0.9818]\n",
            "Classwise Validation Precision: [0.8913, 0.9306, 0.938, 0.9091, 0.9259, 0.8974, 0.7255, 0.9706, 0.701, 0.7778, 0.9301, 0.9717, 0.7442]\n",
            "Classwise Validation Recall: [0.9647, 0.8375, 0.8643, 0.6944, 0.9191, 0.9375, 0.881, 0.8049, 0.9315, 0.9245, 0.95, 0.9196, 0.7442]\n",
            "\n",
            "Best Validation Accuracy: 0.8867\n",
            "\n"
          ]
        },
        {
          "name": "stderr",
          "output_type": "stream",
          "text": [
            "Training Epoch 18/60: 100%|██████████|\n"
          ]
        },
        {
          "name": "stdout",
          "output_type": "stream",
          "text": [
            "Epoch [18/60], Training Loss: 0.1599\n",
            "Training Accuracy: 0.9442\n",
            "Training Precision: 0.9328\n",
            "Training Recall: 0.9318\n",
            "Classwise Training Accuracy: [0.9949, 0.9852, 0.9901, 0.9899, 0.9918, 0.9938, 0.9909, 0.9969, 0.992, 0.9874, 0.9924, 0.9926, 0.9905]\n",
            "Classwise Training Precision: [0.9623, 0.9424, 0.9539, 0.9261, 0.9669, 0.9707, 0.8944, 0.9474, 0.9324, 0.8545, 0.9695, 0.9478, 0.8588]\n",
            "Classwise Training Recall: [0.9651, 0.9453, 0.9607, 0.9038, 0.9599, 0.9621, 0.8421, 0.9643, 0.9356, 0.8585, 0.9643, 0.9732, 0.8786]\n",
            "\n"
          ]
        },
        {
          "name": "stderr",
          "output_type": "stream",
          "text": [
            "Validation:: 100%|██████████|\n"
          ]
        },
        {
          "name": "stdout",
          "output_type": "stream",
          "text": [
            "Validation Loss: 0.4417\n",
            "Validation Accuracy: 0.8916\n",
            "Validation Precision: 0.8793\n",
            "Validation Recall: 0.8799\n",
            "Classwise Validation Accuracy: [0.9892, 0.9711, 0.9868, 0.9793, 0.9777, 0.9851, 0.9892, 0.9926, 0.9777, 0.9859, 0.9818, 0.9851, 0.9818]\n",
            "Classwise Validation Precision: [0.9186, 0.8882, 0.9366, 0.9434, 0.9431, 0.9196, 0.8919, 0.8478, 0.8286, 0.8462, 0.9041, 0.8852, 0.678]\n",
            "Classwise Validation Recall: [0.9294, 0.8938, 0.95, 0.6944, 0.8529, 0.9196, 0.7857, 0.9512, 0.7945, 0.8302, 0.9429, 0.9643, 0.9302]\n",
            "\n",
            "Best Validation Accuracy: 0.8916\n",
            "\n"
          ]
        },
        {
          "name": "stderr",
          "output_type": "stream",
          "text": [
            "Training Epoch 19/60: 100%|██████████|\n"
          ]
        },
        {
          "name": "stdout",
          "output_type": "stream",
          "text": [
            "Epoch [19/60], Training Loss: 0.1616\n",
            "Training Accuracy: 0.9463\n",
            "Training Precision: 0.9407\n",
            "Training Recall: 0.9406\n",
            "Classwise Training Accuracy: [0.9965, 0.9811, 0.9899, 0.992, 0.9909, 0.9918, 0.9928, 0.9969, 0.9911, 0.9934, 0.9903, 0.9934, 0.9924]\n",
            "Classwise Training Precision: [0.9795, 0.9268, 0.9571, 0.9375, 0.9599, 0.9533, 0.9048, 0.9527, 0.9257, 0.9245, 0.9605, 0.9602, 0.8864]\n",
            "Classwise Training Recall: [0.9709, 0.9297, 0.9554, 0.9278, 0.9599, 0.9576, 0.8889, 0.9583, 0.9288, 0.9245, 0.9554, 0.9688, 0.9017]\n",
            "\n"
          ]
        },
        {
          "name": "stderr",
          "output_type": "stream",
          "text": [
            "Validation:: 100%|██████████|\n"
          ]
        },
        {
          "name": "stdout",
          "output_type": "stream",
          "text": [
            "Validation Loss: 0.5152\n",
            "Validation Accuracy: 0.8734\n",
            "Validation Precision: 0.8666\n",
            "Validation Recall: 0.8504\n",
            "Classwise Validation Accuracy: [0.9826, 0.9628, 0.9727, 0.976, 0.9801, 0.9835, 0.9884, 0.9942, 0.9735, 0.9843, 0.9793, 0.9926, 0.9768]\n",
            "Classwise Validation Precision: [0.82, 0.8758, 0.8452, 0.9574, 0.9058, 0.9107, 0.8333, 0.8864, 0.8868, 0.8696, 0.8662, 0.9558, 0.6531]\n",
            "Classwise Validation Recall: [0.9647, 0.8375, 0.9357, 0.625, 0.9191, 0.9107, 0.8333, 0.9512, 0.6438, 0.7547, 0.9714, 0.9643, 0.7442]\n",
            "\n",
            "Best Validation Accuracy: 0.8916\n",
            "\n"
          ]
        },
        {
          "name": "stderr",
          "output_type": "stream",
          "text": [
            "Training Epoch 20/60: 100%|██████████|\n"
          ]
        },
        {
          "name": "stdout",
          "output_type": "stream",
          "text": [
            "Epoch [20/60], Training Loss: 0.1706\n",
            "Training Accuracy: 0.9452\n",
            "Training Precision: 0.9393\n",
            "Training Recall: 0.9363\n",
            "Classwise Training Accuracy: [0.9953, 0.9881, 0.9885, 0.9879, 0.9881, 0.9905, 0.9949, 0.9959, 0.9907, 0.9914, 0.9938, 0.9926, 0.993]\n",
            "Classwise Training Precision: [0.9679, 0.9619, 0.9452, 0.9028, 0.9455, 0.9447, 0.9563, 0.9302, 0.9139, 0.9167, 0.9682, 0.9558, 0.9017]\n",
            "Classwise Training Recall: [0.9651, 0.9469, 0.9554, 0.8935, 0.9489, 0.9531, 0.8947, 0.9524, 0.9356, 0.8821, 0.9786, 0.9643, 0.9017]\n",
            "\n"
          ]
        },
        {
          "name": "stderr",
          "output_type": "stream",
          "text": [
            "Validation:: 100%|██████████|\n"
          ]
        },
        {
          "name": "stdout",
          "output_type": "stream",
          "text": [
            "Validation Loss: 0.4773\n",
            "Validation Accuracy: 0.8966\n",
            "Validation Precision: 0.8854\n",
            "Validation Recall: 0.8672\n",
            "Classwise Validation Accuracy: [0.9868, 0.9677, 0.9884, 0.9801, 0.9835, 0.9868, 0.9909, 0.9926, 0.9744, 0.9843, 0.9876, 0.9917, 0.9785]\n",
            "Classwise Validation Precision: [0.871, 0.8497, 0.95, 0.9444, 0.9394, 0.9364, 0.9189, 0.9211, 0.75, 0.7833, 0.9562, 0.9322, 0.7576]\n",
            "Classwise Validation Recall: [0.9529, 0.9187, 0.95, 0.7083, 0.9118, 0.9196, 0.8095, 0.8537, 0.863, 0.8868, 0.9357, 0.9821, 0.5814]\n",
            "\n",
            "Best Validation Accuracy: 0.8966\n",
            "\n"
          ]
        },
        {
          "name": "stderr",
          "output_type": "stream",
          "text": [
            "Training Epoch 21/60: 100%|██████████|\n"
          ]
        },
        {
          "name": "stdout",
          "output_type": "stream",
          "text": [
            "Epoch [21/60], Training Loss: 0.1467\n",
            "Training Accuracy: 0.9506\n",
            "Training Precision: 0.9419\n",
            "Training Recall: 0.9400\n",
            "Classwise Training Accuracy: [0.9946, 0.9864, 0.9916, 0.9914, 0.9936, 0.9907, 0.9934, 0.9955, 0.9901, 0.992, 0.9944, 0.9951, 0.9924]\n",
            "Classwise Training Precision: [0.9676, 0.9484, 0.9561, 0.9368, 0.9709, 0.9468, 0.9212, 0.9345, 0.9049, 0.9023, 0.9802, 0.9753, 0.9]\n",
            "Classwise Training Recall: [0.9564, 0.9484, 0.9714, 0.9175, 0.9726, 0.9531, 0.8889, 0.9345, 0.9356, 0.9151, 0.9714, 0.971, 0.8844]\n",
            "\n"
          ]
        },
        {
          "name": "stderr",
          "output_type": "stream",
          "text": [
            "Validation:: 100%|██████████|\n"
          ]
        },
        {
          "name": "stdout",
          "output_type": "stream",
          "text": [
            "Validation Loss: 0.4854\n",
            "Validation Accuracy: 0.8850\n",
            "Validation Precision: 0.8707\n",
            "Validation Recall: 0.8743\n",
            "Classwise Validation Accuracy: [0.9818, 0.9677, 0.9818, 0.9719, 0.981, 0.9818, 0.9884, 0.995, 0.9735, 0.9859, 0.9868, 0.9909, 0.9835]\n",
            "Classwise Validation Precision: [0.8, 0.8667, 0.9403, 0.7714, 0.9748, 0.9412, 0.85, 0.9487, 0.7356, 0.7903, 0.9559, 0.9633, 0.7805]\n",
            "Classwise Validation Recall: [0.9882, 0.8938, 0.9, 0.75, 0.8529, 0.8571, 0.8095, 0.9024, 0.8767, 0.9245, 0.9286, 0.9375, 0.7442]\n",
            "\n",
            "Best Validation Accuracy: 0.8966\n",
            "\n"
          ]
        },
        {
          "name": "stderr",
          "output_type": "stream",
          "text": [
            "Training Epoch 22/60: 100%|██████████|\n"
          ]
        },
        {
          "name": "stdout",
          "output_type": "stream",
          "text": [
            "Epoch [22/60], Training Loss: 0.1304\n",
            "Training Accuracy: 0.9562\n",
            "Training Precision: 0.9491\n",
            "Training Recall: 0.9483\n",
            "Classwise Training Accuracy: [0.9928, 0.9909, 0.9926, 0.9922, 0.9901, 0.9932, 0.9924, 0.9967, 0.9928, 0.9936, 0.9953, 0.9942, 0.9955]\n",
            "Classwise Training Precision: [0.9478, 0.9642, 0.9662, 0.9231, 0.9596, 0.9663, 0.9241, 0.9471, 0.9452, 0.933, 0.982, 0.9626, 0.9171]\n",
            "Classwise Training Recall: [0.9506, 0.9672, 0.9696, 0.9485, 0.9526, 0.9598, 0.8538, 0.9583, 0.9356, 0.9198, 0.9768, 0.9754, 0.9595]\n",
            "\n"
          ]
        },
        {
          "name": "stderr",
          "output_type": "stream",
          "text": [
            "Validation:: 100%|██████████|\n"
          ]
        },
        {
          "name": "stdout",
          "output_type": "stream",
          "text": [
            "Validation Loss: 0.4330\n",
            "Validation Accuracy: 0.9041\n",
            "Validation Precision: 0.8846\n",
            "Validation Recall: 0.8826\n",
            "Classwise Validation Accuracy: [0.9909, 0.9768, 0.9901, 0.9777, 0.9859, 0.9851, 0.9909, 0.995, 0.981, 0.9768, 0.9884, 0.9892, 0.9801]\n",
            "Classwise Validation Precision: [0.9302, 0.9342, 0.9507, 0.8947, 0.9407, 0.8983, 0.8605, 0.973, 0.8289, 0.7049, 0.95, 0.9231, 0.7111]\n",
            "Classwise Validation Recall: [0.9412, 0.8875, 0.9643, 0.7083, 0.9338, 0.9464, 0.881, 0.878, 0.863, 0.8113, 0.95, 0.9643, 0.7442]\n",
            "\n",
            "Best Validation Accuracy: 0.9041\n",
            "\n"
          ]
        },
        {
          "name": "stderr",
          "output_type": "stream",
          "text": [
            "Training Epoch 23/60: 100%|██████████|\n"
          ]
        },
        {
          "name": "stdout",
          "output_type": "stream",
          "text": [
            "Epoch [23/60], Training Loss: 0.1206\n",
            "Training Accuracy: 0.9609\n",
            "Training Precision: 0.9534\n",
            "Training Recall: 0.9539\n",
            "Classwise Training Accuracy: [0.9979, 0.9899, 0.9938, 0.9907, 0.9942, 0.9907, 0.994, 0.9969, 0.9959, 0.9944, 0.9965, 0.993, 0.9936]\n",
            "Classwise Training Precision: [0.9827, 0.9668, 0.9732, 0.9271, 0.9727, 0.9488, 0.9226, 0.9422, 0.9725, 0.9302, 0.9805, 0.9621, 0.9128]\n",
            "Classwise Training Recall: [0.9884, 0.9563, 0.9732, 0.9175, 0.9763, 0.9509, 0.9064, 0.9702, 0.9593, 0.9434, 0.9893, 0.9621, 0.9075]\n",
            "\n"
          ]
        },
        {
          "name": "stderr",
          "output_type": "stream",
          "text": [
            "Validation:: 100%|██████████|\n"
          ]
        },
        {
          "name": "stdout",
          "output_type": "stream",
          "text": [
            "Validation Loss: 0.4722\n",
            "Validation Accuracy: 0.8991\n",
            "Validation Precision: 0.8781\n",
            "Validation Recall: 0.8836\n",
            "Classwise Validation Accuracy: [0.9917, 0.9744, 0.9851, 0.9768, 0.9884, 0.9801, 0.9892, 0.9917, 0.9735, 0.9876, 0.9876, 0.9926, 0.9793]\n",
            "Classwise Validation Precision: [0.9412, 0.951, 0.942, 0.8929, 0.9621, 0.8438, 0.8222, 0.8298, 0.7204, 0.88, 0.9433, 0.9725, 0.7143]\n",
            "Classwise Validation Recall: [0.9412, 0.85, 0.9286, 0.6944, 0.9338, 0.9643, 0.881, 0.9512, 0.9178, 0.8302, 0.95, 0.9464, 0.6977]\n",
            "\n",
            "Best Validation Accuracy: 0.9041\n",
            "\n"
          ]
        },
        {
          "name": "stderr",
          "output_type": "stream",
          "text": [
            "Training Epoch 24/60: 100%|██████████|\n"
          ]
        },
        {
          "name": "stdout",
          "output_type": "stream",
          "text": [
            "Epoch [24/60], Training Loss: 0.1112\n",
            "Training Accuracy: 0.9625\n",
            "Training Precision: 0.9552\n",
            "Training Recall: 0.9528\n",
            "Classwise Training Accuracy: [0.9973, 0.9924, 0.9938, 0.9924, 0.9949, 0.9893, 0.9932, 0.9971, 0.9979, 0.993, 0.9981, 0.9922, 0.9934]\n",
            "Classwise Training Precision: [0.9797, 0.9704, 0.9783, 0.9349, 0.9763, 0.948, 0.9423, 0.9583, 0.9703, 0.9238, 0.9911, 0.9457, 0.8983]\n",
            "Classwise Training Recall: [0.9826, 0.9719, 0.9679, 0.9381, 0.9781, 0.9353, 0.8596, 0.9583, 0.9966, 0.9151, 0.9929, 0.971, 0.9191]\n",
            "\n"
          ]
        },
        {
          "name": "stderr",
          "output_type": "stream",
          "text": [
            "Validation:: 100%|██████████|\n"
          ]
        },
        {
          "name": "stdout",
          "output_type": "stream",
          "text": [
            "Validation Loss: 0.4248\n",
            "Validation Accuracy: 0.8966\n",
            "Validation Precision: 0.8705\n",
            "Validation Recall: 0.8845\n",
            "Classwise Validation Accuracy: [0.9892, 0.9752, 0.9826, 0.9768, 0.9835, 0.9859, 0.9876, 0.9909, 0.9735, 0.9868, 0.9884, 0.9909, 0.9818]\n",
            "Classwise Validation Precision: [0.8913, 0.9276, 0.9048, 0.8333, 0.9462, 0.9204, 0.7872, 0.8125, 0.8254, 0.8033, 0.95, 0.981, 0.7333]\n",
            "Classwise Validation Recall: [0.9647, 0.8813, 0.95, 0.7639, 0.9044, 0.9286, 0.881, 0.9512, 0.7123, 0.9245, 0.95, 0.9196, 0.7674]\n",
            "\n",
            "Best Validation Accuracy: 0.9041\n",
            "\n"
          ]
        },
        {
          "name": "stderr",
          "output_type": "stream",
          "text": [
            "Training Epoch 25/60: 100%|██████████|\n"
          ]
        },
        {
          "name": "stdout",
          "output_type": "stream",
          "text": [
            "Epoch [25/60], Training Loss: 0.0795\n",
            "Training Accuracy: 0.9739\n",
            "Training Precision: 0.9681\n",
            "Training Recall: 0.9676\n",
            "Classwise Training Accuracy: [0.9969, 0.9944, 0.9959, 0.9961, 0.9951, 0.9963, 0.994, 0.9984, 0.9955, 0.9959, 0.9975, 0.9957, 0.9961]\n",
            "Classwise Training Precision: [0.9687, 0.9812, 0.9839, 0.969, 0.9799, 0.9757, 0.9277, 0.9706, 0.9627, 0.9486, 0.9928, 0.9713, 0.9529]\n",
            "Classwise Training Recall: [0.9884, 0.9766, 0.9804, 0.9656, 0.9763, 0.9844, 0.9006, 0.9821, 0.9627, 0.9575, 0.9857, 0.9821, 0.9364]\n",
            "\n"
          ]
        },
        {
          "name": "stderr",
          "output_type": "stream",
          "text": [
            "Validation:: 100%|██████████|\n"
          ]
        },
        {
          "name": "stdout",
          "output_type": "stream",
          "text": [
            "Validation Loss: 0.5114\n",
            "Validation Accuracy: 0.9024\n",
            "Validation Precision: 0.8869\n",
            "Validation Recall: 0.8862\n",
            "Classwise Validation Accuracy: [0.9901, 0.976, 0.9892, 0.9818, 0.9777, 0.9843, 0.9884, 0.9942, 0.9777, 0.9835, 0.9909, 0.9884, 0.9826]\n",
            "Classwise Validation Precision: [0.9101, 0.9281, 0.9847, 0.9167, 0.8707, 0.9266, 0.8182, 0.9722, 0.7556, 0.8, 0.9778, 0.9298, 0.7391]\n",
            "Classwise Validation Recall: [0.9529, 0.8875, 0.9214, 0.7639, 0.9412, 0.9018, 0.8571, 0.8537, 0.9315, 0.8302, 0.9429, 0.9464, 0.7907]\n",
            "\n",
            "Best Validation Accuracy: 0.9041\n",
            "\n"
          ]
        },
        {
          "name": "stderr",
          "output_type": "stream",
          "text": [
            "Training Epoch 26/60: 100%|██████████|\n"
          ]
        },
        {
          "name": "stdout",
          "output_type": "stream",
          "text": [
            "Epoch [26/60], Training Loss: 0.1203\n",
            "Training Accuracy: 0.9611\n",
            "Training Precision: 0.9569\n",
            "Training Recall: 0.9559\n",
            "Classwise Training Accuracy: [0.994, 0.9893, 0.9924, 0.993, 0.9924, 0.9938, 0.9951, 0.9988, 0.9922, 0.9942, 0.9959, 0.9959, 0.9953]\n",
            "Classwise Training Precision: [0.9565, 0.9623, 0.9628, 0.9356, 0.9637, 0.9644, 0.9349, 0.9821, 0.9386, 0.951, 0.9839, 0.9777, 0.9261]\n",
            "Classwise Training Recall: [0.9593, 0.9563, 0.9714, 0.9485, 0.969, 0.9688, 0.924, 0.9821, 0.9322, 0.9151, 0.9804, 0.9777, 0.9422]\n",
            "\n"
          ]
        },
        {
          "name": "stderr",
          "output_type": "stream",
          "text": [
            "Validation:: 100%|██████████|\n"
          ]
        },
        {
          "name": "stdout",
          "output_type": "stream",
          "text": [
            "Validation Loss: 0.4571\n",
            "Validation Accuracy: 0.8983\n",
            "Validation Precision: 0.8714\n",
            "Validation Recall: 0.8797\n",
            "Classwise Validation Accuracy: [0.9884, 0.9818, 0.9868, 0.9694, 0.9876, 0.9884, 0.9868, 0.9967, 0.9735, 0.9785, 0.9884, 0.9901, 0.9801]\n",
            "Classwise Validation Precision: [0.8817, 0.9481, 0.9493, 0.7011, 0.9919, 0.9298, 0.825, 0.9111, 0.7971, 0.7015, 0.9632, 0.9717, 0.7568]\n",
            "Classwise Validation Recall: [0.9647, 0.9125, 0.9357, 0.8472, 0.8971, 0.9464, 0.7857, 1.0, 0.7534, 0.8868, 0.9357, 0.9196, 0.6512]\n",
            "\n",
            "Best Validation Accuracy: 0.9041\n",
            "\n"
          ]
        },
        {
          "name": "stderr",
          "output_type": "stream",
          "text": [
            "Training Epoch 27/60: 100%|██████████|\n"
          ]
        },
        {
          "name": "stdout",
          "output_type": "stream",
          "text": [
            "Epoch [27/60], Training Loss: 0.1059\n",
            "Training Accuracy: 0.9638\n",
            "Training Precision: 0.9559\n",
            "Training Recall: 0.9573\n",
            "Classwise Training Accuracy: [0.9963, 0.9922, 0.9934, 0.9932, 0.9928, 0.9961, 0.9934, 0.9967, 0.9953, 0.9946, 0.9949, 0.994, 0.9946]\n",
            "Classwise Training Precision: [0.9711, 0.9659, 0.9731, 0.9448, 0.9777, 0.9842, 0.9112, 0.9471, 0.9564, 0.9429, 0.9768, 0.9645, 0.9106]\n",
            "Classwise Training Recall: [0.9767, 0.975, 0.9696, 0.9416, 0.958, 0.9732, 0.9006, 0.9583, 0.9661, 0.934, 0.9786, 0.971, 0.9422]\n",
            "\n"
          ]
        },
        {
          "name": "stderr",
          "output_type": "stream",
          "text": [
            "Validation:: 100%|██████████|\n"
          ]
        },
        {
          "name": "stdout",
          "output_type": "stream",
          "text": [
            "Validation Loss: 0.5609\n",
            "Validation Accuracy: 0.8776\n",
            "Validation Precision: 0.8622\n",
            "Validation Recall: 0.8576\n",
            "Classwise Validation Accuracy: [0.9884, 0.9711, 0.9826, 0.9719, 0.981, 0.9818, 0.9868, 0.9934, 0.9586, 0.9835, 0.9892, 0.9859, 0.981]\n",
            "Classwise Validation Precision: [0.961, 0.9085, 0.9612, 0.7639, 0.9669, 0.8571, 0.8824, 0.9024, 0.6139, 0.8, 0.9504, 0.913, 0.7273]\n",
            "Classwise Validation Recall: [0.8706, 0.8687, 0.8857, 0.7639, 0.8603, 0.9643, 0.7143, 0.9024, 0.8493, 0.8302, 0.9571, 0.9375, 0.7442]\n",
            "\n",
            "Best Validation Accuracy: 0.9041\n",
            "\n"
          ]
        },
        {
          "name": "stderr",
          "output_type": "stream",
          "text": [
            "Training Epoch 28/60: 100%|██████████|\n"
          ]
        },
        {
          "name": "stdout",
          "output_type": "stream",
          "text": [
            "Epoch [28/60], Training Loss: 0.1078\n",
            "Training Accuracy: 0.9623\n",
            "Training Precision: 0.9559\n",
            "Training Recall: 0.9526\n",
            "Classwise Training Accuracy: [0.9959, 0.9907, 0.9951, 0.9936, 0.9938, 0.9934, 0.9934, 0.9967, 0.9932, 0.9934, 0.9969, 0.9934, 0.9951]\n",
            "Classwise Training Precision: [0.9682, 0.967, 0.9786, 0.9276, 0.9744, 0.9622, 0.9212, 0.9634, 0.9486, 0.9327, 0.984, 0.9581, 0.9408]\n",
            "Classwise Training Recall: [0.9738, 0.9625, 0.9786, 0.9691, 0.9708, 0.9665, 0.8889, 0.9405, 0.939, 0.9151, 0.9893, 0.971, 0.9191]\n",
            "\n"
          ]
        },
        {
          "name": "stderr",
          "output_type": "stream",
          "text": [
            "Validation:: 100%|██████████|\n"
          ]
        },
        {
          "name": "stdout",
          "output_type": "stream",
          "text": [
            "Validation Loss: 0.6093\n",
            "Validation Accuracy: 0.8850\n",
            "Validation Precision: 0.8710\n",
            "Validation Recall: 0.8758\n",
            "Classwise Validation Accuracy: [0.9876, 0.9719, 0.9835, 0.9744, 0.9801, 0.9818, 0.9884, 0.9926, 0.9744, 0.9859, 0.9859, 0.9892, 0.9744]\n",
            "Classwise Validation Precision: [0.8646, 0.9846, 0.9286, 0.9767, 0.9444, 0.8629, 0.8182, 0.9, 0.7333, 0.86, 0.9128, 0.9459, 0.5909]\n",
            "Classwise Validation Recall: [0.9765, 0.8, 0.9286, 0.5833, 0.875, 0.9554, 0.8571, 0.878, 0.9041, 0.8113, 0.9714, 0.9375, 0.907]\n",
            "\n",
            "Best Validation Accuracy: 0.9041\n",
            "\n"
          ]
        },
        {
          "name": "stderr",
          "output_type": "stream",
          "text": [
            "Training Epoch 29/60: 100%|██████████|\n"
          ]
        },
        {
          "name": "stdout",
          "output_type": "stream",
          "text": [
            "Epoch [29/60], Training Loss: 0.1047\n",
            "Training Accuracy: 0.9650\n",
            "Training Precision: 0.9572\n",
            "Training Recall: 0.9563\n",
            "Classwise Training Accuracy: [0.9977, 0.9903, 0.9953, 0.9936, 0.9946, 0.9957, 0.9914, 0.999, 0.9957, 0.9928, 0.9953, 0.9944, 0.9942]\n",
            "Classwise Training Precision: [0.9798, 0.964, 0.982, 0.9514, 0.9745, 0.9776, 0.9006, 0.9822, 0.9628, 0.9041, 0.982, 0.9626, 0.9191]\n",
            "Classwise Training Recall: [0.9884, 0.9625, 0.9768, 0.9416, 0.9781, 0.9754, 0.848, 0.9881, 0.9661, 0.934, 0.9768, 0.9777, 0.9191]\n",
            "\n"
          ]
        },
        {
          "name": "stderr",
          "output_type": "stream",
          "text": [
            "Validation:: 100%|██████████|\n"
          ]
        },
        {
          "name": "stdout",
          "output_type": "stream",
          "text": [
            "Validation Loss: 0.4088\n",
            "Validation Accuracy: 0.9016\n",
            "Validation Precision: 0.8862\n",
            "Validation Recall: 0.8844\n",
            "Classwise Validation Accuracy: [0.9926, 0.9735, 0.9826, 0.976, 0.9843, 0.9876, 0.9876, 0.9934, 0.976, 0.9884, 0.9884, 0.9868, 0.9859]\n",
            "Classwise Validation Precision: [0.9318, 0.8902, 0.9343, 0.8209, 0.9333, 0.9076, 0.8857, 0.8511, 0.8235, 0.8824, 0.9701, 0.9068, 0.7826]\n",
            "Classwise Validation Recall: [0.9647, 0.9125, 0.9143, 0.7639, 0.9265, 0.9643, 0.7381, 0.9756, 0.7671, 0.8491, 0.9286, 0.9554, 0.8372]\n",
            "\n",
            "Best Validation Accuracy: 0.9041\n",
            "\n"
          ]
        },
        {
          "name": "stderr",
          "output_type": "stream",
          "text": [
            "Training Epoch 30/60: 100%|██████████|\n"
          ]
        },
        {
          "name": "stdout",
          "output_type": "stream",
          "text": [
            "Epoch [30/60], Training Loss: 0.0749\n",
            "Training Accuracy: 0.9724\n",
            "Training Precision: 0.9682\n",
            "Training Recall: 0.9672\n",
            "Classwise Training Accuracy: [0.9975, 0.992, 0.9959, 0.9969, 0.9953, 0.9957, 0.9944, 0.9981, 0.9969, 0.9961, 0.9953, 0.9951, 0.9957]\n",
            "Classwise Training Precision: [0.9826, 0.9732, 0.9821, 0.9726, 0.9799, 0.9755, 0.9615, 0.9704, 0.973, 0.9488, 0.9803, 0.9649, 0.9222]\n",
            "Classwise Training Recall: [0.9826, 0.9656, 0.9821, 0.9759, 0.9781, 0.9777, 0.8772, 0.9762, 0.9763, 0.9623, 0.9786, 0.9821, 0.9595]\n",
            "\n"
          ]
        },
        {
          "name": "stderr",
          "output_type": "stream",
          "text": [
            "Validation:: 100%|██████████|\n"
          ]
        },
        {
          "name": "stdout",
          "output_type": "stream",
          "text": [
            "Validation Loss: 0.4862\n",
            "Validation Accuracy: 0.8974\n",
            "Validation Precision: 0.8799\n",
            "Validation Recall: 0.8832\n",
            "Classwise Validation Accuracy: [0.9851, 0.9711, 0.9843, 0.9801, 0.9859, 0.9851, 0.9892, 0.9934, 0.9727, 0.9868, 0.9892, 0.9917, 0.9801]\n",
            "Classwise Validation Precision: [0.8851, 0.8743, 0.9416, 0.9615, 0.976, 0.8983, 0.8222, 0.8511, 0.7174, 0.8136, 0.9635, 0.9904, 0.7436]\n",
            "Classwise Validation Recall: [0.9059, 0.9125, 0.9214, 0.6944, 0.8971, 0.9464, 0.881, 0.9756, 0.9041, 0.9057, 0.9429, 0.9196, 0.6744]\n",
            "\n",
            "Best Validation Accuracy: 0.9041\n",
            "\n"
          ]
        },
        {
          "name": "stderr",
          "output_type": "stream",
          "text": [
            "Training Epoch 31/60: 100%|██████████|\n"
          ]
        },
        {
          "name": "stdout",
          "output_type": "stream",
          "text": [
            "Epoch [31/60], Training Loss: 0.0895\n",
            "Training Accuracy: 0.9693\n",
            "Training Precision: 0.9628\n",
            "Training Recall: 0.9622\n",
            "Classwise Training Accuracy: [0.9971, 0.993, 0.9953, 0.9961, 0.9957, 0.9955, 0.9938, 0.9986, 0.994, 0.9955, 0.9963, 0.994, 0.9938]\n",
            "Classwise Training Precision: [0.9797, 0.972, 0.9786, 0.9755, 0.9853, 0.9754, 0.9075, 0.982, 0.9433, 0.9567, 0.9839, 0.9625, 0.9133]\n",
            "Classwise Training Recall: [0.9797, 0.975, 0.9804, 0.9588, 0.9763, 0.9754, 0.9181, 0.9762, 0.9593, 0.9387, 0.9839, 0.9732, 0.9133]\n",
            "\n"
          ]
        },
        {
          "name": "stderr",
          "output_type": "stream",
          "text": [
            "Validation:: 100%|██████████|\n"
          ]
        },
        {
          "name": "stdout",
          "output_type": "stream",
          "text": [
            "Validation Loss: 0.4942\n",
            "Validation Accuracy: 0.8867\n",
            "Validation Precision: 0.8696\n",
            "Validation Recall: 0.8774\n",
            "Classwise Validation Accuracy: [0.9851, 0.9677, 0.9818, 0.9735, 0.9851, 0.9835, 0.9884, 0.9942, 0.9719, 0.9851, 0.9859, 0.9868, 0.9843]\n",
            "Classwise Validation Precision: [0.8384, 0.9231, 0.9275, 0.7564, 0.9758, 0.9035, 0.85, 0.925, 0.7191, 0.8302, 0.9624, 0.9211, 0.7727]\n",
            "Classwise Validation Recall: [0.9765, 0.825, 0.9143, 0.8194, 0.8897, 0.9196, 0.8095, 0.9024, 0.8767, 0.8302, 0.9143, 0.9375, 0.7907]\n",
            "\n",
            "Best Validation Accuracy: 0.9041\n",
            "\n"
          ]
        },
        {
          "name": "stderr",
          "output_type": "stream",
          "text": [
            "Training Epoch 32/60: 100%|██████████|\n"
          ]
        },
        {
          "name": "stdout",
          "output_type": "stream",
          "text": [
            "Epoch [32/60], Training Loss: 0.0809\n",
            "Training Accuracy: 0.9730\n",
            "Training Precision: 0.9686\n",
            "Training Recall: 0.9691\n",
            "Classwise Training Accuracy: [0.9973, 0.993, 0.9957, 0.9938, 0.9977, 0.992, 0.9961, 0.9988, 0.9977, 0.9959, 0.9977, 0.9944, 0.9959]\n",
            "Classwise Training Precision: [0.9825, 0.984, 0.9787, 0.9424, 0.9945, 0.9514, 0.9471, 0.988, 0.9702, 0.966, 0.9876, 0.9667, 0.9322]\n",
            "Classwise Training Recall: [0.9797, 0.9625, 0.9839, 0.9553, 0.9854, 0.9621, 0.9415, 0.9762, 0.9932, 0.9387, 0.9929, 0.9732, 0.9538]\n",
            "\n"
          ]
        },
        {
          "name": "stderr",
          "output_type": "stream",
          "text": [
            "Validation:: 100%|██████████|\n"
          ]
        },
        {
          "name": "stdout",
          "output_type": "stream",
          "text": [
            "Validation Loss: 0.4592\n",
            "Validation Accuracy: 0.9032\n",
            "Validation Precision: 0.8904\n",
            "Validation Recall: 0.8831\n",
            "Classwise Validation Accuracy: [0.9892, 0.9727, 0.9868, 0.9801, 0.9826, 0.9859, 0.9901, 0.9917, 0.9777, 0.9843, 0.9884, 0.9917, 0.9851]\n",
            "Classwise Validation Precision: [0.9, 0.8713, 0.9697, 0.9138, 0.9197, 0.8992, 0.8947, 0.9189, 0.8026, 0.7931, 0.9701, 0.9554, 0.766]\n",
            "Classwise Validation Recall: [0.9529, 0.9312, 0.9143, 0.7361, 0.9265, 0.9554, 0.8095, 0.8293, 0.8356, 0.8679, 0.9286, 0.9554, 0.8372]\n",
            "\n",
            "Best Validation Accuracy: 0.9041\n",
            "\n"
          ]
        },
        {
          "name": "stderr",
          "output_type": "stream",
          "text": [
            "Training Epoch 33/60: 100%|██████████|\n"
          ]
        },
        {
          "name": "stdout",
          "output_type": "stream",
          "text": [
            "Epoch [33/60], Training Loss: 0.0780\n",
            "Training Accuracy: 0.9745\n",
            "Training Precision: 0.9719\n",
            "Training Recall: 0.9712\n",
            "Classwise Training Accuracy: [0.9959, 0.9936, 0.9963, 0.9965, 0.9942, 0.9955, 0.9959, 0.9988, 0.9957, 0.9975, 0.9969, 0.9951, 0.9971]\n",
            "Classwise Training Precision: [0.9709, 0.975, 0.9822, 0.9628, 0.9745, 0.9819, 0.9632, 0.9709, 0.9597, 0.9762, 0.991, 0.967, 0.9595]\n",
            "Classwise Training Recall: [0.9709, 0.9766, 0.9857, 0.9794, 0.9745, 0.9688, 0.9181, 0.994, 0.9695, 0.967, 0.9821, 0.9799, 0.9595]\n",
            "\n"
          ]
        },
        {
          "name": "stderr",
          "output_type": "stream",
          "text": [
            "Validation:: 100%|██████████|\n"
          ]
        },
        {
          "name": "stdout",
          "output_type": "stream",
          "text": [
            "Validation Loss: 0.6532\n",
            "Validation Accuracy: 0.8801\n",
            "Validation Precision: 0.8714\n",
            "Validation Recall: 0.8703\n",
            "Classwise Validation Accuracy: [0.9785, 0.976, 0.9835, 0.9768, 0.9669, 0.9835, 0.9876, 0.9975, 0.9611, 0.9859, 0.9901, 0.9909, 0.9818]\n",
            "Classwise Validation Precision: [0.7757, 0.9396, 0.9412, 0.9583, 0.9615, 0.8651, 0.8, 0.9524, 0.6226, 0.86, 0.9444, 0.9633, 0.7442]\n",
            "Classwise Validation Recall: [0.9765, 0.875, 0.9143, 0.6389, 0.7353, 0.9732, 0.8571, 0.9756, 0.9041, 0.8113, 0.9714, 0.9375, 0.7442]\n",
            "\n",
            "Best Validation Accuracy: 0.9041\n",
            "\n"
          ]
        },
        {
          "name": "stderr",
          "output_type": "stream",
          "text": [
            "Training Epoch 34/60: 100%|██████████|\n"
          ]
        },
        {
          "name": "stdout",
          "output_type": "stream",
          "text": [
            "Epoch [34/60], Training Loss: 0.1067\n",
            "Training Accuracy: 0.9695\n",
            "Training Precision: 0.9648\n",
            "Training Recall: 0.9644\n",
            "Classwise Training Accuracy: [0.9932, 0.9942, 0.9942, 0.9971, 0.9934, 0.9967, 0.994, 0.9977, 0.9949, 0.9963, 0.9949, 0.9957, 0.9967]\n",
            "Classwise Training Precision: [0.9534, 0.9781, 0.97, 0.9792, 0.9725, 0.9843, 0.9176, 0.9645, 0.9592, 0.9575, 0.9785, 0.9734, 0.9538]\n",
            "Classwise Training Recall: [0.9506, 0.9781, 0.9804, 0.9725, 0.969, 0.9799, 0.9123, 0.9702, 0.9559, 0.9575, 0.9768, 0.9799, 0.9538]\n",
            "\n"
          ]
        },
        {
          "name": "stderr",
          "output_type": "stream",
          "text": [
            "Validation:: 100%|██████████|\n"
          ]
        },
        {
          "name": "stdout",
          "output_type": "stream",
          "text": [
            "Validation Loss: 0.4676\n",
            "Validation Accuracy: 0.9074\n",
            "Validation Precision: 0.8925\n",
            "Validation Recall: 0.8953\n",
            "Classwise Validation Accuracy: [0.9926, 0.9752, 0.9843, 0.9801, 0.981, 0.9859, 0.9909, 0.995, 0.9801, 0.9884, 0.9884, 0.9926, 0.9801]\n",
            "Classwise Validation Precision: [0.9222, 0.9514, 0.9549, 0.9138, 0.9124, 0.8992, 0.9189, 0.9268, 0.7952, 0.8197, 0.9375, 0.9478, 0.7021]\n",
            "Classwise Validation Recall: [0.9765, 0.8562, 0.9071, 0.7361, 0.9191, 0.9554, 0.8095, 0.9268, 0.9041, 0.9434, 0.9643, 0.9732, 0.7674]\n",
            "\n",
            "Best Validation Accuracy: 0.9074\n",
            "\n"
          ]
        },
        {
          "name": "stderr",
          "output_type": "stream",
          "text": [
            "Training Epoch 35/60: 100%|██████████|\n"
          ]
        },
        {
          "name": "stdout",
          "output_type": "stream",
          "text": [
            "Epoch [35/60], Training Loss: 0.0781\n",
            "Training Accuracy: 0.9747\n",
            "Training Precision: 0.9719\n",
            "Training Recall: 0.9702\n",
            "Classwise Training Accuracy: [0.9969, 0.9942, 0.9936, 0.9961, 0.9959, 0.9965, 0.9949, 0.9981, 0.9967, 0.9971, 0.9971, 0.9944, 0.9977]\n",
            "Classwise Training Precision: [0.9768, 0.9811, 0.9766, 0.969, 0.9714, 0.9821, 0.9506, 0.9704, 0.9761, 0.9626, 0.9875, 0.9647, 0.9655]\n",
            "Classwise Training Recall: [0.9797, 0.975, 0.9679, 0.9656, 0.9927, 0.9799, 0.9006, 0.9762, 0.9695, 0.9717, 0.9875, 0.9754, 0.9711]\n",
            "\n"
          ]
        },
        {
          "name": "stderr",
          "output_type": "stream",
          "text": [
            "Validation:: 100%|██████████|\n"
          ]
        },
        {
          "name": "stdout",
          "output_type": "stream",
          "text": [
            "Validation Loss: 0.5309\n",
            "Validation Accuracy: 0.8933\n",
            "Validation Precision: 0.8716\n",
            "Validation Recall: 0.8666\n",
            "Classwise Validation Accuracy: [0.9876, 0.9818, 0.9892, 0.9711, 0.981, 0.9801, 0.9926, 0.9868, 0.9719, 0.981, 0.9909, 0.9926, 0.9801]\n",
            "Classwise Validation Precision: [0.8804, 0.96, 0.9774, 0.7681, 0.952, 0.8492, 0.9459, 0.8788, 0.7143, 0.7344, 0.9574, 0.9813, 0.7317]\n",
            "Classwise Validation Recall: [0.9529, 0.9, 0.9286, 0.7361, 0.875, 0.9554, 0.8333, 0.7073, 0.8904, 0.8868, 0.9643, 0.9375, 0.6977]\n",
            "\n",
            "Best Validation Accuracy: 0.9074\n",
            "\n"
          ]
        },
        {
          "name": "stderr",
          "output_type": "stream",
          "text": [
            "Training Epoch 36/60: 100%|██████████|\n"
          ]
        },
        {
          "name": "stdout",
          "output_type": "stream",
          "text": [
            "Epoch [36/60], Training Loss: 0.0578\n",
            "Training Accuracy: 0.9809\n",
            "Training Precision: 0.9767\n",
            "Training Recall: 0.9783\n",
            "Classwise Training Accuracy: [0.9981, 0.9957, 0.9949, 0.9975, 0.9973, 0.9984, 0.9957, 0.9979, 0.9975, 0.9973, 0.9969, 0.9961, 0.9984]\n",
            "Classwise Training Precision: [0.9855, 0.9828, 0.9768, 0.9761, 0.9908, 0.9911, 0.936, 0.9702, 0.9797, 0.9716, 0.991, 0.9799, 0.9661]\n",
            "Classwise Training Recall: [0.9884, 0.9844, 0.9786, 0.9828, 0.9854, 0.9911, 0.9415, 0.9702, 0.9797, 0.967, 0.9821, 0.9777, 0.9884]\n",
            "\n"
          ]
        },
        {
          "name": "stderr",
          "output_type": "stream",
          "text": [
            "Validation:: 100%|██████████|\n"
          ]
        },
        {
          "name": "stdout",
          "output_type": "stream",
          "text": [
            "Validation Loss: 0.6148\n",
            "Validation Accuracy: 0.8999\n",
            "Validation Precision: 0.8683\n",
            "Validation Recall: 0.8914\n",
            "Classwise Validation Accuracy: [0.9926, 0.9793, 0.9851, 0.9752, 0.9818, 0.9884, 0.9859, 0.9917, 0.981, 0.9777, 0.9926, 0.9892, 0.9793]\n",
            "Classwise Validation Precision: [0.9318, 0.9655, 0.9692, 0.85, 0.9453, 0.9298, 0.7551, 0.8444, 0.8049, 0.6912, 0.9645, 0.9626, 0.6731]\n",
            "Classwise Validation Recall: [0.9647, 0.875, 0.9, 0.7083, 0.8897, 0.9464, 0.881, 0.9268, 0.9041, 0.8868, 0.9714, 0.9196, 0.814]\n",
            "\n",
            "Best Validation Accuracy: 0.9074\n",
            "\n"
          ]
        },
        {
          "name": "stderr",
          "output_type": "stream",
          "text": [
            "Training Epoch 37/60: 100%|██████████|\n"
          ]
        },
        {
          "name": "stdout",
          "output_type": "stream",
          "text": [
            "Epoch [37/60], Training Loss: 0.0642\n",
            "Training Accuracy: 0.9776\n",
            "Training Precision: 0.9713\n",
            "Training Recall: 0.9703\n",
            "Classwise Training Accuracy: [0.9975, 0.9961, 0.9955, 0.9977, 0.9967, 0.9981, 0.9932, 0.9979, 0.9969, 0.9963, 0.9981, 0.9946, 0.9963]\n",
            "Classwise Training Precision: [0.9826, 0.9859, 0.9838, 0.9828, 0.9836, 0.9911, 0.9259, 0.9593, 0.9762, 0.9491, 0.9911, 0.9627, 0.9532]\n",
            "Classwise Training Recall: [0.9826, 0.9844, 0.9768, 0.9794, 0.9872, 0.9888, 0.8772, 0.9821, 0.9729, 0.967, 0.9929, 0.9799, 0.9422]\n",
            "\n"
          ]
        },
        {
          "name": "stderr",
          "output_type": "stream",
          "text": [
            "Validation:: 100%|██████████|\n"
          ]
        },
        {
          "name": "stdout",
          "output_type": "stream",
          "text": [
            "Validation Loss: 0.5206\n",
            "Validation Accuracy: 0.8908\n",
            "Validation Precision: 0.8737\n",
            "Validation Recall: 0.8605\n",
            "Classwise Validation Accuracy: [0.9926, 0.9744, 0.9835, 0.9768, 0.9843, 0.9843, 0.9835, 0.9909, 0.9727, 0.981, 0.9876, 0.9884, 0.9818]\n",
            "Classwise Validation Precision: [0.913, 0.9329, 0.9286, 0.8333, 0.9466, 0.9189, 0.72, 0.9688, 0.7174, 0.8, 0.931, 0.9083, 0.8387]\n",
            "Classwise Validation Recall: [0.9882, 0.8687, 0.9286, 0.7639, 0.9118, 0.9107, 0.8571, 0.7561, 0.9041, 0.7547, 0.9643, 0.9732, 0.6047]\n",
            "\n",
            "Best Validation Accuracy: 0.9074\n",
            "\n"
          ]
        },
        {
          "name": "stderr",
          "output_type": "stream",
          "text": [
            "Training Epoch 38/60: 100%|██████████|\n"
          ]
        },
        {
          "name": "stdout",
          "output_type": "stream",
          "text": [
            "Epoch [38/60], Training Loss: 0.0725\n",
            "Training Accuracy: 0.9767\n",
            "Training Precision: 0.9739\n",
            "Training Recall: 0.9727\n",
            "Classwise Training Accuracy: [0.9967, 0.992, 0.9942, 0.9969, 0.9969, 0.9977, 0.9953, 0.9981, 0.9979, 0.9967, 0.9973, 0.9961, 0.9975]\n",
            "Classwise Training Precision: [0.9767, 0.9747, 0.9733, 0.9631, 0.9872, 0.991, 0.9458, 0.9818, 0.9798, 0.9623, 0.9858, 0.9735, 0.9653]\n",
            "Classwise Training Recall: [0.9767, 0.9641, 0.9768, 0.9863, 0.9854, 0.9844, 0.9181, 0.9643, 0.9864, 0.9623, 0.9911, 0.9844, 0.9653]\n",
            "\n"
          ]
        },
        {
          "name": "stderr",
          "output_type": "stream",
          "text": [
            "Validation:: 100%|██████████|\n"
          ]
        },
        {
          "name": "stdout",
          "output_type": "stream",
          "text": [
            "Validation Loss: 0.5668\n",
            "Validation Accuracy: 0.8966\n",
            "Validation Precision: 0.8788\n",
            "Validation Recall: 0.8871\n",
            "Classwise Validation Accuracy: [0.9835, 0.9686, 0.9859, 0.9793, 0.9818, 0.9843, 0.9884, 0.9926, 0.9801, 0.9851, 0.9892, 0.9901, 0.9843]\n",
            "Classwise Validation Precision: [0.8351, 0.891, 0.9241, 0.9608, 0.9191, 0.9115, 0.8043, 0.8333, 0.8451, 0.7966, 0.9704, 0.9717, 0.7609]\n",
            "Classwise Validation Recall: [0.9529, 0.8687, 0.9571, 0.6806, 0.9191, 0.9196, 0.881, 0.9756, 0.8219, 0.8868, 0.9357, 0.9196, 0.814]\n",
            "\n",
            "Best Validation Accuracy: 0.9074\n",
            "\n"
          ]
        },
        {
          "name": "stderr",
          "output_type": "stream",
          "text": [
            "Training Epoch 39/60: 100%|██████████|\n"
          ]
        },
        {
          "name": "stdout",
          "output_type": "stream",
          "text": [
            "Epoch [39/60], Training Loss: 0.0933\n",
            "Training Accuracy: 0.9691\n",
            "Training Precision: 0.9642\n",
            "Training Recall: 0.9642\n",
            "Classwise Training Accuracy: [0.9975, 0.9909, 0.9955, 0.993, 0.9965, 0.9955, 0.9932, 0.9975, 0.9961, 0.9967, 0.9938, 0.9946, 0.9973]\n",
            "Classwise Training Precision: [0.977, 0.97, 0.977, 0.9509, 0.9836, 0.9733, 0.9059, 0.9588, 0.9694, 0.9712, 0.9715, 0.971, 0.9545]\n",
            "Classwise Training Recall: [0.9884, 0.9609, 0.9839, 0.9313, 0.9854, 0.9777, 0.9006, 0.9702, 0.9661, 0.9528, 0.975, 0.971, 0.9711]\n",
            "\n"
          ]
        },
        {
          "name": "stderr",
          "output_type": "stream",
          "text": [
            "Validation:: 100%|██████████|\n"
          ]
        },
        {
          "name": "stdout",
          "output_type": "stream",
          "text": [
            "Validation Loss: 0.5360\n",
            "Validation Accuracy: 0.8950\n",
            "Validation Precision: 0.8810\n",
            "Validation Recall: 0.8792\n",
            "Classwise Validation Accuracy: [0.9892, 0.9677, 0.9892, 0.9777, 0.981, 0.9801, 0.9909, 0.9909, 0.976, 0.9843, 0.9917, 0.9876, 0.9835]\n",
            "Classwise Validation Precision: [0.939, 0.9549, 0.9704, 0.8462, 0.9007, 0.8385, 0.9697, 0.8261, 0.75, 0.7833, 0.9779, 0.9008, 0.7949]\n",
            "Classwise Validation Recall: [0.9059, 0.7937, 0.9357, 0.7639, 0.9338, 0.9732, 0.7619, 0.9268, 0.9041, 0.8868, 0.95, 0.9732, 0.7209]\n",
            "\n",
            "Best Validation Accuracy: 0.9074\n",
            "\n"
          ]
        },
        {
          "name": "stderr",
          "output_type": "stream",
          "text": [
            "Training Epoch 40/60: 100%|██████████|\n"
          ]
        },
        {
          "name": "stdout",
          "output_type": "stream",
          "text": [
            "Epoch [40/60], Training Loss: 0.0682\n",
            "Training Accuracy: 0.9769\n",
            "Training Precision: 0.9728\n",
            "Training Recall: 0.9729\n",
            "Classwise Training Accuracy: [0.9981, 0.9946, 0.9961, 0.9969, 0.9988, 0.9938, 0.9949, 0.999, 0.9971, 0.9959, 0.9965, 0.9946, 0.9975]\n",
            "Classwise Training Precision: [0.9941, 0.9812, 0.9856, 0.9662, 0.9945, 0.9686, 0.9398, 0.9766, 0.9731, 0.9528, 0.984, 0.9648, 0.9653]\n",
            "Classwise Training Recall: [0.9797, 0.9781, 0.9804, 0.9828, 0.9945, 0.9643, 0.9123, 0.994, 0.9797, 0.9528, 0.9857, 0.9777, 0.9653]\n",
            "\n"
          ]
        },
        {
          "name": "stderr",
          "output_type": "stream",
          "text": [
            "Validation:: 100%|██████████|\n"
          ]
        },
        {
          "name": "stdout",
          "output_type": "stream",
          "text": [
            "Validation Loss: 0.4900\n",
            "Validation Accuracy: 0.8983\n",
            "Validation Precision: 0.8755\n",
            "Validation Recall: 0.8847\n",
            "Classwise Validation Accuracy: [0.9926, 0.9752, 0.9868, 0.9785, 0.9826, 0.9884, 0.9884, 0.995, 0.9719, 0.9801, 0.9926, 0.9868, 0.9777]\n",
            "Classwise Validation Precision: [0.913, 0.8916, 0.9306, 0.9107, 0.9832, 0.9537, 0.8182, 0.8889, 0.8545, 0.6986, 0.9781, 0.9068, 0.6538]\n",
            "Classwise Validation Recall: [0.9882, 0.925, 0.9571, 0.7083, 0.8603, 0.9196, 0.8571, 0.9756, 0.6438, 0.9623, 0.9571, 0.9554, 0.7907]\n",
            "\n",
            "Best Validation Accuracy: 0.9074\n",
            "\n"
          ]
        },
        {
          "name": "stderr",
          "output_type": "stream",
          "text": [
            "Training Epoch 41/60: 100%|██████████|\n"
          ]
        },
        {
          "name": "stdout",
          "output_type": "stream",
          "text": [
            "Epoch [41/60], Training Loss: 0.0519\n",
            "Training Accuracy: 0.9831\n",
            "Training Precision: 0.9794\n",
            "Training Recall: 0.9780\n",
            "Classwise Training Accuracy: [0.9992, 0.9971, 0.9979, 0.9963, 0.9973, 0.9986, 0.9959, 0.999, 0.9971, 0.9977, 0.9986, 0.9944, 0.9971]\n",
            "Classwise Training Precision: [0.9942, 0.9906, 0.9876, 0.9691, 0.989, 0.9911, 0.9521, 0.988, 0.9795, 0.9718, 0.9929, 0.9667, 0.9595]\n",
            "Classwise Training Recall: [0.9942, 0.9875, 0.9946, 0.9691, 0.9872, 0.9933, 0.9298, 0.9821, 0.9729, 0.9764, 0.9946, 0.9732, 0.9595]\n",
            "\n"
          ]
        },
        {
          "name": "stderr",
          "output_type": "stream",
          "text": [
            "Validation:: 100%|██████████|\n"
          ]
        },
        {
          "name": "stdout",
          "output_type": "stream",
          "text": [
            "Validation Loss: 0.5446\n",
            "Validation Accuracy: 0.9082\n",
            "Validation Precision: 0.8799\n",
            "Validation Recall: 0.8971\n",
            "Classwise Validation Accuracy: [0.9934, 0.9843, 0.9884, 0.9768, 0.9835, 0.9884, 0.9901, 0.9909, 0.9777, 0.9801, 0.9917, 0.9892, 0.9818]\n",
            "Classwise Validation Precision: [0.9326, 0.9608, 0.9773, 0.8929, 0.9328, 0.9712, 0.8125, 0.8, 0.7556, 0.7302, 0.9577, 0.9714, 0.7442]\n",
            "Classwise Validation Recall: [0.9765, 0.9187, 0.9214, 0.6944, 0.9191, 0.9018, 0.9286, 0.9756, 0.9315, 0.8679, 0.9714, 0.9107, 0.7442]\n",
            "\n",
            "Best Validation Accuracy: 0.9082\n",
            "\n"
          ]
        },
        {
          "name": "stderr",
          "output_type": "stream",
          "text": [
            "Training Epoch 42/60: 100%|██████████|\n"
          ]
        },
        {
          "name": "stdout",
          "output_type": "stream",
          "text": [
            "Epoch [42/60], Training Loss: 0.0650\n",
            "Training Accuracy: 0.9798\n",
            "Training Precision: 0.9782\n",
            "Training Recall: 0.9765\n",
            "Classwise Training Accuracy: [0.9981, 0.9953, 0.9981, 0.9967, 0.9957, 0.9977, 0.9955, 0.999, 0.9969, 0.9979, 0.9961, 0.9938, 0.9988]\n",
            "Classwise Training Precision: [0.9855, 0.9828, 0.9911, 0.9758, 0.98, 0.991, 0.9627, 0.9822, 0.973, 0.9676, 0.9839, 0.9583, 0.9827]\n",
            "Classwise Training Recall: [0.9884, 0.9812, 0.9929, 0.9691, 0.9818, 0.9844, 0.9064, 0.9881, 0.9763, 0.9858, 0.9821, 0.9754, 0.9827]\n",
            "\n"
          ]
        },
        {
          "name": "stderr",
          "output_type": "stream",
          "text": [
            "Validation:: 100%|██████████|\n"
          ]
        },
        {
          "name": "stdout",
          "output_type": "stream",
          "text": [
            "Validation Loss: 0.5525\n",
            "Validation Accuracy: 0.9016\n",
            "Validation Precision: 0.8867\n",
            "Validation Recall: 0.8914\n",
            "Classwise Validation Accuracy: [0.9909, 0.9727, 0.9884, 0.9744, 0.9826, 0.9876, 0.9917, 0.995, 0.9711, 0.9835, 0.9901, 0.9909, 0.9843]\n",
            "Classwise Validation Precision: [0.9022, 0.9635, 0.9565, 0.8727, 0.9389, 0.9008, 0.9, 0.9487, 0.6939, 0.7463, 0.9706, 0.9469, 0.7857]\n",
            "Classwise Validation Recall: [0.9765, 0.825, 0.9429, 0.6667, 0.9044, 0.9732, 0.8571, 0.9024, 0.9315, 0.9434, 0.9429, 0.9554, 0.7674]\n",
            "\n",
            "Best Validation Accuracy: 0.9082\n",
            "\n"
          ]
        },
        {
          "name": "stderr",
          "output_type": "stream",
          "text": [
            "Training Epoch 43/60: 100%|██████████|\n"
          ]
        },
        {
          "name": "stdout",
          "output_type": "stream",
          "text": [
            "Epoch [43/60], Training Loss: 0.0569\n",
            "Training Accuracy: 0.9790\n",
            "Training Precision: 0.9740\n",
            "Training Recall: 0.9756\n",
            "Classwise Training Accuracy: [0.9988, 0.994, 0.9975, 0.9959, 0.9973, 0.9977, 0.9951, 0.999, 0.9969, 0.9977, 0.9969, 0.9946, 0.9965]\n",
            "Classwise Training Precision: [0.9913, 0.9796, 0.991, 0.9593, 0.9855, 0.9932, 0.9298, 0.9822, 0.973, 0.9674, 0.9857, 0.9752, 0.9483]\n",
            "Classwise Training Recall: [0.9913, 0.975, 0.9875, 0.9725, 0.9909, 0.9821, 0.9298, 0.9881, 0.9763, 0.9811, 0.9875, 0.9665, 0.9538]\n",
            "\n"
          ]
        },
        {
          "name": "stderr",
          "output_type": "stream",
          "text": [
            "Validation:: 100%|██████████|\n"
          ]
        },
        {
          "name": "stdout",
          "output_type": "stream",
          "text": [
            "Validation Loss: 0.5063\n",
            "Validation Accuracy: 0.9024\n",
            "Validation Precision: 0.8906\n",
            "Validation Recall: 0.8877\n",
            "Classwise Validation Accuracy: [0.9901, 0.9735, 0.9868, 0.9801, 0.9868, 0.9851, 0.9884, 0.9959, 0.9735, 0.9859, 0.9859, 0.9868, 0.9859]\n",
            "Classwise Validation Precision: [0.9011, 0.9324, 0.9366, 0.9444, 0.9545, 0.8983, 0.8182, 0.9091, 0.7303, 0.8214, 0.9489, 0.9, 0.8824]\n",
            "Classwise Validation Recall: [0.9647, 0.8625, 0.95, 0.7083, 0.9265, 0.9464, 0.8571, 0.9756, 0.8904, 0.8679, 0.9286, 0.9643, 0.6977]\n",
            "\n",
            "Best Validation Accuracy: 0.9082\n",
            "\n"
          ]
        },
        {
          "name": "stderr",
          "output_type": "stream",
          "text": [
            "Training Epoch 44/60: 100%|██████████|\n"
          ]
        },
        {
          "name": "stdout",
          "output_type": "stream",
          "text": [
            "Epoch [44/60], Training Loss: 0.0556\n",
            "Training Accuracy: 0.9807\n",
            "Training Precision: 0.9788\n",
            "Training Recall: 0.9756\n",
            "Classwise Training Accuracy: [0.999, 0.9961, 0.9967, 0.9955, 0.9963, 0.9965, 0.9951, 0.999, 0.9975, 0.9988, 0.9973, 0.9959, 0.9977]\n",
            "Classwise Training Precision: [0.9942, 0.9814, 0.9857, 0.9719, 0.9836, 0.9757, 0.9509, 0.988, 0.9764, 0.9858, 0.991, 0.9693, 0.9709]\n",
            "Classwise Training Recall: [0.9913, 0.9891, 0.9857, 0.9519, 0.9836, 0.9866, 0.9064, 0.9821, 0.9831, 0.9858, 0.9857, 0.9866, 0.9653]\n",
            "\n"
          ]
        },
        {
          "name": "stderr",
          "output_type": "stream",
          "text": [
            "Validation:: 100%|██████████|\n"
          ]
        },
        {
          "name": "stdout",
          "output_type": "stream",
          "text": [
            "Validation Loss: 0.5155\n",
            "Validation Accuracy: 0.9032\n",
            "Validation Precision: 0.8865\n",
            "Validation Recall: 0.8880\n",
            "Classwise Validation Accuracy: [0.995, 0.9744, 0.9835, 0.9752, 0.9835, 0.9826, 0.9884, 0.9959, 0.9777, 0.9859, 0.9909, 0.9901, 0.9835]\n",
            "Classwise Validation Precision: [0.9438, 0.9006, 0.9478, 0.8182, 0.9394, 0.8699, 0.7692, 0.9286, 0.8108, 0.8913, 0.9708, 0.9386, 0.7949]\n",
            "Classwise Validation Recall: [0.9882, 0.9062, 0.9071, 0.75, 0.9118, 0.9554, 0.9524, 0.9512, 0.8219, 0.7736, 0.95, 0.9554, 0.7209]\n",
            "\n",
            "Best Validation Accuracy: 0.9082\n",
            "\n"
          ]
        },
        {
          "name": "stderr",
          "output_type": "stream",
          "text": [
            "Training Epoch 45/60: 100%|██████████|\n"
          ]
        },
        {
          "name": "stdout",
          "output_type": "stream",
          "text": [
            "Epoch [45/60], Training Loss: 0.0862\n",
            "Training Accuracy: 0.9745\n",
            "Training Precision: 0.9707\n",
            "Training Recall: 0.9699\n",
            "Classwise Training Accuracy: [0.9961, 0.9936, 0.9957, 0.9967, 0.994, 0.9975, 0.9934, 0.999, 0.9973, 0.9957, 0.9955, 0.9965, 0.9979]\n",
            "Classwise Training Precision: [0.971, 0.9795, 0.9821, 0.9693, 0.9693, 0.9866, 0.9112, 0.988, 0.9829, 0.9569, 0.9786, 0.9778, 0.9657]\n",
            "Classwise Training Recall: [0.9738, 0.9719, 0.9804, 0.9759, 0.9781, 0.9866, 0.9006, 0.9821, 0.9729, 0.9434, 0.9821, 0.9844, 0.9769]\n",
            "\n"
          ]
        },
        {
          "name": "stderr",
          "output_type": "stream",
          "text": [
            "Validation:: 100%|██████████|\n"
          ]
        },
        {
          "name": "stdout",
          "output_type": "stream",
          "text": [
            "Validation Loss: 0.4456\n",
            "Validation Accuracy: 0.9132\n",
            "Validation Precision: 0.9045\n",
            "Validation Recall: 0.9018\n",
            "Classwise Validation Accuracy: [0.9942, 0.9818, 0.9859, 0.976, 0.9851, 0.9892, 0.9926, 0.9975, 0.9752, 0.9826, 0.9859, 0.9934, 0.9868]\n",
            "Classwise Validation Precision: [0.9432, 0.9726, 0.9184, 0.9778, 0.9538, 0.9304, 0.8667, 0.975, 0.7216, 0.75, 0.9301, 0.9727, 0.8462]\n",
            "Classwise Validation Recall: [0.9765, 0.8875, 0.9643, 0.6111, 0.9118, 0.9554, 0.9286, 0.9512, 0.9589, 0.9057, 0.95, 0.9554, 0.7674]\n",
            "\n",
            "Best Validation Accuracy: 0.9132\n",
            "\n"
          ]
        },
        {
          "name": "stderr",
          "output_type": "stream",
          "text": [
            "Training Epoch 46/60: 100%|██████████|\n"
          ]
        },
        {
          "name": "stdout",
          "output_type": "stream",
          "text": [
            "Epoch [46/60], Training Loss: 0.0334\n",
            "Training Accuracy: 0.9907\n",
            "Training Precision: 0.9898\n",
            "Training Recall: 0.9887\n",
            "Classwise Training Accuracy: [0.999, 0.9973, 0.9981, 0.9988, 0.999, 0.999, 0.9971, 0.9994, 0.9986, 0.9994, 0.9988, 0.9975, 0.9996]\n",
            "Classwise Training Precision: [0.9942, 0.9876, 0.9893, 0.9897, 0.9982, 0.9955, 0.9701, 0.9882, 0.9865, 0.9953, 0.9946, 0.9844, 0.9942]\n",
            "Classwise Training Recall: [0.9913, 0.9922, 0.9946, 0.9897, 0.9927, 0.9933, 0.9474, 0.994, 0.9898, 0.9906, 0.9946, 0.9888, 0.9942]\n",
            "\n"
          ]
        },
        {
          "name": "stderr",
          "output_type": "stream",
          "text": [
            "Validation:: 100%|██████████|\n"
          ]
        },
        {
          "name": "stdout",
          "output_type": "stream",
          "text": [
            "Validation Loss: 0.4187\n",
            "Validation Accuracy: 0.9165\n",
            "Validation Precision: 0.9037\n",
            "Validation Recall: 0.9074\n",
            "Classwise Validation Accuracy: [0.9959, 0.9777, 0.9868, 0.9826, 0.9868, 0.9901, 0.9901, 0.9967, 0.9686, 0.9892, 0.9917, 0.9909, 0.9859]\n",
            "Classwise Validation Precision: [0.9545, 0.9586, 0.9697, 0.9322, 0.9545, 0.9386, 0.875, 0.9302, 0.6733, 0.8704, 0.9643, 0.9316, 0.7955]\n",
            "Classwise Validation Recall: [0.9882, 0.8687, 0.9143, 0.7639, 0.9265, 0.9554, 0.8333, 0.9756, 0.9315, 0.8868, 0.9643, 0.9732, 0.814]\n",
            "\n",
            "Best Validation Accuracy: 0.9165\n",
            "\n"
          ]
        },
        {
          "name": "stderr",
          "output_type": "stream",
          "text": [
            "Training Epoch 47/60: 100%|██████████|\n"
          ]
        },
        {
          "name": "stdout",
          "output_type": "stream",
          "text": [
            "Epoch [47/60], Training Loss: 0.0538\n",
            "Training Accuracy: 0.9825\n",
            "Training Precision: 0.9785\n",
            "Training Recall: 0.9767\n",
            "Classwise Training Accuracy: [0.999, 0.9967, 0.9961, 0.9965, 0.9988, 0.9981, 0.9949, 0.9988, 0.9977, 0.9971, 0.9979, 0.9959, 0.9975]\n",
            "Classwise Training Precision: [0.9913, 0.9875, 0.9839, 0.9724, 0.9963, 0.9867, 0.9506, 0.9765, 0.9765, 0.9714, 0.9928, 0.9693, 0.9653]\n",
            "Classwise Training Recall: [0.9942, 0.9875, 0.9821, 0.9691, 0.9927, 0.9933, 0.9006, 0.9881, 0.9864, 0.9623, 0.9893, 0.9866, 0.9653]\n",
            "\n"
          ]
        },
        {
          "name": "stderr",
          "output_type": "stream",
          "text": [
            "Validation:: 100%|██████████|\n"
          ]
        },
        {
          "name": "stdout",
          "output_type": "stream",
          "text": [
            "Validation Loss: 0.4357\n",
            "Validation Accuracy: 0.9140\n",
            "Validation Precision: 0.8943\n",
            "Validation Recall: 0.8944\n",
            "Classwise Validation Accuracy: [0.9975, 0.9793, 0.9909, 0.9735, 0.9884, 0.9884, 0.9892, 0.995, 0.9785, 0.9835, 0.9909, 0.9901, 0.9826]\n",
            "Classwise Validation Precision: [0.9767, 0.9355, 0.9708, 0.8226, 0.9692, 0.9537, 0.8372, 0.973, 0.7831, 0.7391, 0.9448, 0.931, 0.7895]\n",
            "Classwise Validation Recall: [0.9882, 0.9062, 0.95, 0.7083, 0.9265, 0.9196, 0.8571, 0.878, 0.8904, 0.9623, 0.9786, 0.9643, 0.6977]\n",
            "\n",
            "Best Validation Accuracy: 0.9165\n",
            "\n"
          ]
        },
        {
          "name": "stderr",
          "output_type": "stream",
          "text": [
            "Training Epoch 48/60: 100%|██████████|\n"
          ]
        },
        {
          "name": "stdout",
          "output_type": "stream",
          "text": [
            "Epoch [48/60], Training Loss: 0.0477\n",
            "Training Accuracy: 0.9841\n",
            "Training Precision: 0.9796\n",
            "Training Recall: 0.9805\n",
            "Classwise Training Accuracy: [0.9994, 0.9951, 0.9973, 0.9973, 0.9988, 0.9975, 0.9965, 0.9981, 0.9981, 0.9981, 0.9992, 0.9961, 0.9967]\n",
            "Classwise Training Precision: [1.0, 0.9828, 0.9858, 0.976, 0.9927, 0.991, 0.9477, 0.9704, 0.9799, 0.9765, 0.9964, 0.982, 0.9538]\n",
            "Classwise Training Recall: [0.9913, 0.9797, 0.9911, 0.9794, 0.9964, 0.9821, 0.9532, 0.9762, 0.9898, 0.9811, 0.9964, 0.9754, 0.9538]\n",
            "\n"
          ]
        },
        {
          "name": "stderr",
          "output_type": "stream",
          "text": [
            "Validation:: 100%|██████████|\n"
          ]
        },
        {
          "name": "stdout",
          "output_type": "stream",
          "text": [
            "Validation Loss: 0.5789\n",
            "Validation Accuracy: 0.8966\n",
            "Validation Precision: 0.8728\n",
            "Validation Recall: 0.8926\n",
            "Classwise Validation Accuracy: [0.9835, 0.9686, 0.9901, 0.9777, 0.9826, 0.9859, 0.9876, 0.9934, 0.9793, 0.9876, 0.9876, 0.9884, 0.981]\n",
            "Classwise Validation Precision: [0.8155, 0.9766, 0.9706, 0.8571, 0.9832, 0.8992, 0.814, 0.8667, 0.7857, 0.8167, 0.9371, 0.9153, 0.7083]\n",
            "Classwise Validation Recall: [0.9882, 0.7812, 0.9429, 0.75, 0.8603, 0.9554, 0.8333, 0.9512, 0.9041, 0.9245, 0.9571, 0.9643, 0.7907]\n",
            "\n",
            "Best Validation Accuracy: 0.9165\n",
            "\n"
          ]
        },
        {
          "name": "stderr",
          "output_type": "stream",
          "text": [
            "Training Epoch 49/60: 100%|██████████|\n"
          ]
        },
        {
          "name": "stdout",
          "output_type": "stream",
          "text": [
            "Epoch [49/60], Training Loss: 0.0621\n",
            "Training Accuracy: 0.9780\n",
            "Training Precision: 0.9714\n",
            "Training Recall: 0.9711\n",
            "Classwise Training Accuracy: [0.9984, 0.9951, 0.9971, 0.9971, 0.9977, 0.9959, 0.9938, 0.9988, 0.9979, 0.9944, 0.9981, 0.9957, 0.9959]\n",
            "Classwise Training Precision: [0.9855, 0.9858, 0.984, 0.9727, 0.9891, 0.9756, 0.9123, 0.988, 0.9863, 0.9602, 0.9928, 0.9734, 0.9227]\n",
            "Classwise Training Recall: [0.9913, 0.9766, 0.9911, 0.9794, 0.9909, 0.9799, 0.9123, 0.9762, 0.9797, 0.9104, 0.9911, 0.9799, 0.9653]\n",
            "\n"
          ]
        },
        {
          "name": "stderr",
          "output_type": "stream",
          "text": [
            "Validation:: 100%|██████████|\n"
          ]
        },
        {
          "name": "stdout",
          "output_type": "stream",
          "text": [
            "Validation Loss: 0.4782\n",
            "Validation Accuracy: 0.9107\n",
            "Validation Precision: 0.8987\n",
            "Validation Recall: 0.8929\n",
            "Classwise Validation Accuracy: [0.9926, 0.9826, 0.9909, 0.9777, 0.9835, 0.9859, 0.9917, 0.9975, 0.9818, 0.9702, 0.9917, 0.9917, 0.9835]\n",
            "Classwise Validation Precision: [0.9419, 0.9317, 0.9574, 0.9091, 0.9462, 0.9439, 0.9, 0.975, 0.8148, 0.6, 0.971, 0.9636, 0.8286]\n",
            "Classwise Validation Recall: [0.9529, 0.9375, 0.9643, 0.6944, 0.9044, 0.9018, 0.8571, 0.9512, 0.9041, 0.9623, 0.9571, 0.9464, 0.6744]\n",
            "\n",
            "Best Validation Accuracy: 0.9165\n",
            "\n"
          ]
        },
        {
          "name": "stderr",
          "output_type": "stream",
          "text": [
            "Training Epoch 50/60: 100%|██████████|\n"
          ]
        },
        {
          "name": "stdout",
          "output_type": "stream",
          "text": [
            "Epoch [50/60], Training Loss: 0.0440\n",
            "Training Accuracy: 0.9860\n",
            "Training Precision: 0.9822\n",
            "Training Recall: 0.9813\n",
            "Classwise Training Accuracy: [0.999, 0.9971, 0.9992, 0.9969, 0.999, 0.9975, 0.9959, 0.999, 0.9973, 0.9979, 0.9986, 0.9967, 0.9979]\n",
            "Classwise Training Precision: [0.9942, 0.9906, 0.9964, 0.9792, 0.9945, 0.9888, 0.9689, 0.9766, 0.97, 0.9676, 0.9964, 0.9737, 0.9711]\n",
            "Classwise Training Recall: [0.9913, 0.9875, 0.9964, 0.9691, 0.9964, 0.9844, 0.9123, 0.994, 0.9864, 0.9858, 0.9911, 0.9911, 0.9711]\n",
            "\n"
          ]
        },
        {
          "name": "stderr",
          "output_type": "stream",
          "text": [
            "Validation:: 100%|██████████|\n"
          ]
        },
        {
          "name": "stdout",
          "output_type": "stream",
          "text": [
            "Validation Loss: 0.5414\n",
            "Validation Accuracy: 0.9148\n",
            "Validation Precision: 0.8984\n",
            "Validation Recall: 0.8932\n",
            "Classwise Validation Accuracy: [0.9901, 0.9785, 0.9892, 0.9793, 0.9876, 0.9859, 0.9909, 0.9959, 0.9793, 0.9843, 0.9934, 0.9934, 0.9818]\n",
            "Classwise Validation Precision: [0.8842, 0.9187, 0.9635, 0.8507, 0.969, 0.8926, 0.878, 0.95, 0.8077, 0.7656, 0.9783, 0.9815, 0.8387]\n",
            "Classwise Validation Recall: [0.9882, 0.9187, 0.9429, 0.7917, 0.9191, 0.9643, 0.8571, 0.9268, 0.863, 0.9245, 0.9643, 0.9464, 0.6047]\n",
            "\n",
            "Best Validation Accuracy: 0.9165\n",
            "\n"
          ]
        },
        {
          "name": "stderr",
          "output_type": "stream",
          "text": [
            "Training Epoch 51/60: 100%|██████████|\n"
          ]
        },
        {
          "name": "stdout",
          "output_type": "stream",
          "text": [
            "Epoch [51/60], Training Loss: 0.0468\n",
            "Training Accuracy: 0.9848\n",
            "Training Precision: 0.9814\n",
            "Training Recall: 0.9794\n",
            "Classwise Training Accuracy: [0.9981, 0.9988, 0.9971, 0.9969, 0.9984, 0.9965, 0.9953, 0.9996, 0.9979, 0.9979, 0.9986, 0.9969, 0.9975]\n",
            "Classwise Training Precision: [0.9855, 0.9938, 0.9875, 0.9726, 0.9909, 0.9821, 0.9512, 0.994, 0.9831, 0.972, 0.9946, 0.98, 0.9708]\n",
            "Classwise Training Recall: [0.9884, 0.9969, 0.9875, 0.9759, 0.9945, 0.9799, 0.9123, 0.994, 0.9831, 0.9811, 0.9929, 0.9866, 0.9595]\n",
            "\n"
          ]
        },
        {
          "name": "stderr",
          "output_type": "stream",
          "text": [
            "Validation:: 100%|██████████|\n"
          ]
        },
        {
          "name": "stdout",
          "output_type": "stream",
          "text": [
            "Validation Loss: 0.5339\n",
            "Validation Accuracy: 0.9041\n",
            "Validation Precision: 0.8871\n",
            "Validation Recall: 0.8917\n",
            "Classwise Validation Accuracy: [0.9934, 0.9793, 0.9835, 0.9777, 0.9785, 0.9843, 0.9926, 0.9959, 0.9777, 0.9843, 0.9926, 0.9868, 0.9818]\n",
            "Classwise Validation Precision: [0.9231, 0.972, 0.9348, 0.8947, 0.8819, 0.9189, 0.8667, 0.9091, 0.7875, 0.7656, 0.9645, 0.9138, 0.8]\n",
            "Classwise Validation Recall: [0.9882, 0.8687, 0.9214, 0.7083, 0.9338, 0.9107, 0.9286, 0.9756, 0.863, 0.9245, 0.9714, 0.9464, 0.6512]\n",
            "\n",
            "Best Validation Accuracy: 0.9165\n",
            "\n"
          ]
        },
        {
          "name": "stderr",
          "output_type": "stream",
          "text": [
            "Training Epoch 52/60: 100%|██████████|\n"
          ]
        },
        {
          "name": "stdout",
          "output_type": "stream",
          "text": [
            "Epoch [52/60], Training Loss: 0.0453\n",
            "Training Accuracy: 0.9856\n",
            "Training Precision: 0.9849\n",
            "Training Recall: 0.9849\n",
            "Classwise Training Accuracy: [0.9977, 0.9977, 0.9944, 0.9969, 0.9971, 0.9971, 0.9981, 0.9994, 0.9981, 0.9994, 0.9986, 0.9977, 0.9988]\n",
            "Classwise Training Precision: [0.9854, 0.9876, 0.9785, 0.9759, 0.9855, 0.9865, 0.9765, 0.9882, 0.9864, 0.9953, 0.9964, 0.9845, 0.9771]\n",
            "Classwise Training Recall: [0.9826, 0.9953, 0.9732, 0.9725, 0.9891, 0.9821, 0.9708, 0.994, 0.9831, 0.9906, 0.9911, 0.9911, 0.9884]\n",
            "\n"
          ]
        },
        {
          "name": "stderr",
          "output_type": "stream",
          "text": [
            "Validation:: 100%|██████████|\n"
          ]
        },
        {
          "name": "stdout",
          "output_type": "stream",
          "text": [
            "Validation Loss: 0.5282\n",
            "Validation Accuracy: 0.9041\n",
            "Validation Precision: 0.8911\n",
            "Validation Recall: 0.8949\n",
            "Classwise Validation Accuracy: [0.9917, 0.9735, 0.9818, 0.9752, 0.9884, 0.9826, 0.9917, 0.995, 0.9744, 0.9876, 0.9892, 0.9892, 0.9876]\n",
            "Classwise Validation Precision: [0.9121, 0.9444, 0.9609, 0.8088, 0.9766, 0.864, 0.9, 0.9487, 0.7561, 0.8167, 0.932, 0.9304, 0.8333]\n",
            "Classwise Validation Recall: [0.9765, 0.85, 0.8786, 0.7639, 0.9191, 0.9643, 0.8571, 0.9024, 0.8493, 0.9245, 0.9786, 0.9554, 0.814]\n",
            "\n",
            "Best Validation Accuracy: 0.9165\n",
            "\n"
          ]
        },
        {
          "name": "stderr",
          "output_type": "stream",
          "text": [
            "Training Epoch 53/60: 100%|██████████|\n"
          ]
        },
        {
          "name": "stdout",
          "output_type": "stream",
          "text": [
            "Epoch [53/60], Training Loss: 0.0464\n",
            "Training Accuracy: 0.9858\n",
            "Training Precision: 0.9849\n",
            "Training Recall: 0.9840\n",
            "Classwise Training Accuracy: [0.999, 0.9977, 0.9973, 0.9984, 0.9961, 0.9979, 0.9961, 0.9998, 0.9977, 0.9992, 0.9975, 0.9957, 0.9992]\n",
            "Classwise Training Precision: [0.9913, 0.9922, 0.9893, 0.9797, 0.9907, 0.991, 0.9691, 0.9941, 0.9797, 0.9906, 0.9858, 0.9672, 0.9829]\n",
            "Classwise Training Recall: [0.9942, 0.9906, 0.9875, 0.9931, 0.9745, 0.9866, 0.9181, 1.0, 0.9831, 0.9906, 0.9929, 0.9866, 0.9942]\n",
            "\n"
          ]
        },
        {
          "name": "stderr",
          "output_type": "stream",
          "text": [
            "Validation:: 100%|██████████|\n"
          ]
        },
        {
          "name": "stdout",
          "output_type": "stream",
          "text": [
            "Validation Loss: 0.4816\n",
            "Validation Accuracy: 0.9206\n",
            "Validation Precision: 0.9133\n",
            "Validation Recall: 0.9101\n",
            "Classwise Validation Accuracy: [0.9934, 0.9801, 0.9868, 0.9835, 0.9826, 0.9901, 0.9934, 0.995, 0.9801, 0.9884, 0.9892, 0.9901, 0.9884]\n",
            "Classwise Validation Precision: [0.9326, 0.9789, 0.9189, 0.9643, 0.9323, 0.9167, 0.925, 0.907, 0.7692, 0.8421, 0.9635, 0.931, 0.8919]\n",
            "Classwise Validation Recall: [0.9765, 0.8687, 0.9714, 0.75, 0.9118, 0.9821, 0.881, 0.9512, 0.9589, 0.9057, 0.9429, 0.9643, 0.7674]\n",
            "\n",
            "Best Validation Accuracy: 0.9206\n",
            "\n"
          ]
        },
        {
          "name": "stderr",
          "output_type": "stream",
          "text": [
            "Training Epoch 54/60: 100%|██████████|\n"
          ]
        },
        {
          "name": "stdout",
          "output_type": "stream",
          "text": [
            "Epoch [54/60], Training Loss: 0.0452\n",
            "Training Accuracy: 0.9839\n",
            "Training Precision: 0.9834\n",
            "Training Recall: 0.9831\n",
            "Classwise Training Accuracy: [0.9977, 0.9949, 0.9961, 0.9986, 0.9967, 0.9981, 0.9967, 0.9998, 0.9971, 0.9994, 0.9981, 0.9959, 0.9988]\n",
            "Classwise Training Precision: [0.9826, 0.9827, 0.9839, 0.9897, 0.9819, 0.9911, 0.9532, 1.0, 0.9795, 0.9906, 0.9911, 0.9756, 0.9827]\n",
            "Classwise Training Recall: [0.9855, 0.9781, 0.9821, 0.9863, 0.9891, 0.9888, 0.9532, 0.994, 0.9729, 0.9953, 0.9929, 0.9799, 0.9827]\n",
            "\n"
          ]
        },
        {
          "name": "stderr",
          "output_type": "stream",
          "text": [
            "Validation:: 100%|██████████|\n"
          ]
        },
        {
          "name": "stdout",
          "output_type": "stream",
          "text": [
            "Validation Loss: 0.4429\n",
            "Validation Accuracy: 0.9181\n",
            "Validation Precision: 0.9049\n",
            "Validation Recall: 0.9090\n",
            "Classwise Validation Accuracy: [0.9909, 0.9735, 0.9876, 0.9793, 0.9826, 0.9917, 0.9909, 0.9959, 0.9818, 0.9884, 0.9917, 0.9934, 0.9884]\n",
            "Classwise Validation Precision: [0.9405, 0.9211, 0.9371, 0.8852, 0.9259, 0.9474, 0.878, 0.9286, 0.8148, 0.8305, 0.9514, 0.9815, 0.8222]\n",
            "Classwise Validation Recall: [0.9294, 0.875, 0.9571, 0.75, 0.9191, 0.9643, 0.8571, 0.9512, 0.9041, 0.9245, 0.9786, 0.9464, 0.8605]\n",
            "\n",
            "Best Validation Accuracy: 0.9206\n",
            "\n"
          ]
        },
        {
          "name": "stderr",
          "output_type": "stream",
          "text": [
            "Training Epoch 55/60: 100%|██████████|\n"
          ]
        },
        {
          "name": "stdout",
          "output_type": "stream",
          "text": [
            "Epoch [55/60], Training Loss: 0.0443\n",
            "Training Accuracy: 0.9862\n",
            "Training Precision: 0.9864\n",
            "Training Recall: 0.9839\n",
            "Classwise Training Accuracy: [0.9986, 0.9961, 0.9977, 0.999, 0.9967, 0.9975, 0.9965, 0.9996, 0.9979, 0.999, 0.9979, 0.9965, 0.9994]\n",
            "Classwise Training Precision: [0.9941, 0.9844, 0.9858, 0.9897, 0.989, 0.9866, 0.9695, 0.994, 0.9798, 0.9859, 0.9911, 0.9736, 1.0]\n",
            "Classwise Training Recall: [0.9855, 0.9859, 0.9946, 0.9931, 0.9818, 0.9866, 0.9298, 0.994, 0.9864, 0.9906, 0.9911, 0.9888, 0.9827]\n",
            "\n"
          ]
        },
        {
          "name": "stderr",
          "output_type": "stream",
          "text": [
            "Validation:: 100%|██████████|\n"
          ]
        },
        {
          "name": "stdout",
          "output_type": "stream",
          "text": [
            "Validation Loss: 0.5636\n",
            "Validation Accuracy: 0.9115\n",
            "Validation Precision: 0.9010\n",
            "Validation Recall: 0.9047\n",
            "Classwise Validation Accuracy: [0.9917, 0.9669, 0.9901, 0.9826, 0.9826, 0.9851, 0.9892, 0.9967, 0.9801, 0.9884, 0.9884, 0.9934, 0.9876]\n",
            "Classwise Validation Precision: [0.9121, 0.9225, 0.9776, 0.9636, 0.9021, 0.873, 0.8085, 0.9302, 0.8025, 0.8679, 0.9375, 0.9815, 0.8333]\n",
            "Classwise Validation Recall: [0.9765, 0.8188, 0.9357, 0.7361, 0.9485, 0.9821, 0.9048, 0.9756, 0.8904, 0.8679, 0.9643, 0.9464, 0.814]\n",
            "\n",
            "Best Validation Accuracy: 0.9206\n",
            "\n"
          ]
        },
        {
          "name": "stderr",
          "output_type": "stream",
          "text": [
            "Training Epoch 56/60: 100%|██████████|\n"
          ]
        },
        {
          "name": "stdout",
          "output_type": "stream",
          "text": [
            "Epoch [56/60], Training Loss: 0.0458\n",
            "Training Accuracy: 0.9821\n",
            "Training Precision: 0.9799\n",
            "Training Recall: 0.9790\n",
            "Classwise Training Accuracy: [0.9992, 0.9961, 0.9971, 0.9977, 0.9951, 0.9973, 0.9963, 0.9979, 0.9971, 0.9986, 0.9977, 0.9957, 0.9984]\n",
            "Classwise Training Precision: [0.9913, 0.9829, 0.9892, 0.9795, 0.9799, 0.9844, 0.9527, 0.9759, 0.9763, 0.9904, 0.9911, 0.9734, 0.9714]\n",
            "Classwise Training Recall: [0.9971, 0.9875, 0.9857, 0.9828, 0.9763, 0.9866, 0.9415, 0.9643, 0.9763, 0.9764, 0.9893, 0.9799, 0.9827]\n",
            "\n"
          ]
        },
        {
          "name": "stderr",
          "output_type": "stream",
          "text": [
            "Validation:: 100%|██████████|\n"
          ]
        },
        {
          "name": "stdout",
          "output_type": "stream",
          "text": [
            "Validation Loss: 0.5466\n",
            "Validation Accuracy: 0.9041\n",
            "Validation Precision: 0.9022\n",
            "Validation Recall: 0.8745\n",
            "Classwise Validation Accuracy: [0.9934, 0.9752, 0.9826, 0.9752, 0.9735, 0.9909, 0.9909, 0.9959, 0.9744, 0.9901, 0.9917, 0.9917, 0.9826]\n",
            "Classwise Validation Precision: [0.9231, 0.9012, 0.8889, 0.8281, 0.8514, 0.9316, 0.878, 0.9737, 0.85, 0.8596, 0.9643, 0.9554, 0.9231]\n",
            "Classwise Validation Recall: [0.9882, 0.9125, 0.9714, 0.7361, 0.9265, 0.9732, 0.8571, 0.9024, 0.6986, 0.9245, 0.9643, 0.9554, 0.5581]\n",
            "\n",
            "Best Validation Accuracy: 0.9206\n",
            "\n"
          ]
        },
        {
          "name": "stderr",
          "output_type": "stream",
          "text": [
            "Training Epoch 57/60: 100%|██████████|\n"
          ]
        },
        {
          "name": "stdout",
          "output_type": "stream",
          "text": [
            "Epoch [57/60], Training Loss: 0.0339\n",
            "Training Accuracy: 0.9901\n",
            "Training Precision: 0.9867\n",
            "Training Recall: 0.9878\n",
            "Classwise Training Accuracy: [0.9996, 0.9977, 0.9988, 0.9979, 0.9979, 0.9996, 0.9973, 0.999, 0.9986, 0.9994, 0.9992, 0.9975, 0.9977]\n",
            "Classwise Training Precision: [0.9971, 0.9922, 0.9946, 0.9862, 0.9891, 1.0, 0.9647, 0.9766, 0.9898, 0.986, 0.9982, 0.9866, 0.9655]\n",
            "Classwise Training Recall: [0.9971, 0.9906, 0.9946, 0.9794, 0.9927, 0.9955, 0.9591, 0.994, 0.9864, 1.0, 0.9946, 0.9866, 0.9711]\n",
            "\n"
          ]
        },
        {
          "name": "stderr",
          "output_type": "stream",
          "text": [
            "Validation:: 100%|██████████|\n"
          ]
        },
        {
          "name": "stdout",
          "output_type": "stream",
          "text": [
            "Validation Loss: 0.4453\n",
            "Validation Accuracy: 0.9165\n",
            "Validation Precision: 0.9064\n",
            "Validation Recall: 0.8995\n",
            "Classwise Validation Accuracy: [0.9934, 0.9768, 0.9892, 0.9826, 0.9826, 0.9901, 0.9892, 0.995, 0.9793, 0.9868, 0.9876, 0.9917, 0.9884]\n",
            "Classwise Validation Precision: [0.9425, 0.9125, 0.9774, 0.918, 0.9021, 0.931, 0.8222, 0.9487, 0.8529, 0.8033, 0.9252, 0.9554, 0.8919]\n",
            "Classwise Validation Recall: [0.9647, 0.9125, 0.9286, 0.7778, 0.9485, 0.9643, 0.881, 0.9024, 0.7945, 0.9245, 0.9714, 0.9554, 0.7674]\n",
            "\n",
            "Best Validation Accuracy: 0.9206\n",
            "\n"
          ]
        },
        {
          "name": "stderr",
          "output_type": "stream",
          "text": [
            "Training Epoch 58/60: 100%|██████████|\n"
          ]
        },
        {
          "name": "stdout",
          "output_type": "stream",
          "text": [
            "Epoch [58/60], Training Loss: 0.0297\n",
            "Training Accuracy: 0.9911\n",
            "Training Precision: 0.9877\n",
            "Training Recall: 0.9882\n",
            "Classwise Training Accuracy: [0.9994, 0.9986, 0.999, 0.9996, 0.999, 0.9992, 0.9977, 1.0, 0.9986, 0.9984, 0.9998, 0.9967, 0.9965]\n",
            "Classwise Training Precision: [0.9942, 0.9984, 0.9982, 0.9932, 0.9945, 0.9933, 0.9762, 1.0, 0.9832, 0.9904, 1.0, 0.98, 0.9382]\n",
            "Classwise Training Recall: [0.9971, 0.9906, 0.9929, 1.0, 0.9964, 0.9978, 0.9591, 1.0, 0.9932, 0.9717, 0.9982, 0.9844, 0.9653]\n",
            "\n"
          ]
        },
        {
          "name": "stderr",
          "output_type": "stream",
          "text": [
            "Validation:: 100%|██████████|\n"
          ]
        },
        {
          "name": "stdout",
          "output_type": "stream",
          "text": [
            "Validation Loss: 0.7336\n",
            "Validation Accuracy: 0.8974\n",
            "Validation Precision: 0.8813\n",
            "Validation Recall: 0.8822\n",
            "Classwise Validation Accuracy: [0.9934, 0.9735, 0.9884, 0.9785, 0.9859, 0.9851, 0.9909, 0.9942, 0.9677, 0.9892, 0.9926, 0.9926, 0.9628]\n",
            "Classwise Validation Precision: [0.9425, 0.8902, 0.9846, 0.871, 0.9542, 0.879, 0.8974, 0.8696, 0.8542, 0.8846, 0.9781, 0.964, 0.4872]\n",
            "Classwise Validation Recall: [0.9647, 0.9125, 0.9143, 0.75, 0.9191, 0.9732, 0.8333, 0.9756, 0.5616, 0.8679, 0.9571, 0.9554, 0.8837]\n",
            "\n",
            "Best Validation Accuracy: 0.9206\n",
            "\n"
          ]
        },
        {
          "name": "stderr",
          "output_type": "stream",
          "text": [
            "Training Epoch 59/60: 100%|██████████|\n"
          ]
        },
        {
          "name": "stdout",
          "output_type": "stream",
          "text": [
            "Epoch [59/60], Training Loss: 0.0589\n",
            "Training Accuracy: 0.9823\n",
            "Training Precision: 0.9773\n",
            "Training Recall: 0.9747\n",
            "Classwise Training Accuracy: [0.9986, 0.9973, 0.9969, 0.9965, 0.999, 0.9975, 0.9977, 0.999, 0.9971, 0.9971, 0.9979, 0.9971, 0.9928]\n",
            "Classwise Training Precision: [0.9913, 0.9876, 0.9806, 0.979, 0.9963, 0.9866, 0.9706, 0.988, 0.9763, 0.9541, 0.9911, 0.9822, 0.9207]\n",
            "Classwise Training Recall: [0.9884, 0.9922, 0.9929, 0.9622, 0.9945, 0.9866, 0.9649, 0.9821, 0.9763, 0.9811, 0.9911, 0.9866, 0.8728]\n",
            "\n"
          ]
        },
        {
          "name": "stderr",
          "output_type": "stream",
          "text": [
            "Validation:: 100%|██████████|\n"
          ]
        },
        {
          "name": "stdout",
          "output_type": "stream",
          "text": [
            "Validation Loss: 0.5504\n",
            "Validation Accuracy: 0.9057\n",
            "Validation Precision: 0.8883\n",
            "Validation Recall: 0.8828\n",
            "Classwise Validation Accuracy: [0.9934, 0.9768, 0.9859, 0.9727, 0.9818, 0.9876, 0.9901, 0.9926, 0.976, 0.9876, 0.9934, 0.9926, 0.981]\n",
            "Classwise Validation Precision: [0.9231, 0.9286, 0.9301, 0.8197, 0.9071, 0.9533, 0.8261, 0.8636, 0.75, 0.8276, 0.9783, 0.9558, 0.8846]\n",
            "Classwise Validation Recall: [0.9882, 0.8938, 0.95, 0.6944, 0.9338, 0.9107, 0.9048, 0.9268, 0.9041, 0.9057, 0.9643, 0.9643, 0.5349]\n",
            "\n",
            "Best Validation Accuracy: 0.9206\n",
            "\n"
          ]
        },
        {
          "name": "stderr",
          "output_type": "stream",
          "text": [
            "Training Epoch 60/60: 100%|██████████|\n"
          ]
        },
        {
          "name": "stdout",
          "output_type": "stream",
          "text": [
            "Epoch [60/60], Training Loss: 0.0539\n",
            "Training Accuracy: 0.9823\n",
            "Training Precision: 0.9799\n",
            "Training Recall: 0.9798\n",
            "Classwise Training Accuracy: [0.9986, 0.9971, 0.9969, 0.9963, 0.9979, 0.9938, 0.9967, 0.9992, 0.9973, 0.9975, 0.9984, 0.9961, 0.9988]\n",
            "Classwise Training Precision: [0.9941, 0.9906, 0.9875, 0.9627, 0.9909, 0.9686, 0.948, 0.994, 0.9669, 0.9808, 0.9894, 0.982, 0.9827]\n",
            "Classwise Training Recall: [0.9855, 0.9875, 0.9857, 0.9759, 0.9909, 0.9643, 0.9591, 0.9821, 0.9898, 0.9623, 0.9964, 0.9754, 0.9827]\n",
            "\n"
          ]
        },
        {
          "name": "stderr",
          "output_type": "stream",
          "text": [
            "Validation:: 100%|██████████|"
          ]
        },
        {
          "name": "stdout",
          "output_type": "stream",
          "text": [
            "Validation Loss: 0.5349\n",
            "Validation Accuracy: 0.9123\n",
            "Validation Precision: 0.8947\n",
            "Validation Recall: 0.8918\n",
            "Classwise Validation Accuracy: [0.9975, 0.9752, 0.9909, 0.9785, 0.9835, 0.9892, 0.9884, 0.9917, 0.9777, 0.9851, 0.9909, 0.9917, 0.9843]\n",
            "Classwise Validation Precision: [0.9767, 0.8916, 0.964, 0.9107, 0.9143, 0.9459, 0.8043, 0.8298, 0.7805, 0.7966, 0.9778, 0.9636, 0.875]\n",
            "Classwise Validation Recall: [0.9882, 0.925, 0.9571, 0.7083, 0.9412, 0.9375, 0.881, 0.9512, 0.8767, 0.8868, 0.9429, 0.9464, 0.6512]\n",
            "\n",
            "Best Validation Accuracy: 0.9206\n",
            "\n"
          ]
        },
        {
          "name": "stderr",
          "output_type": "stream",
          "text": [
            "\n"
          ]
        }
      ],
      "source": [
        "# Training Loop\n",
        "best_accuracy = 0.0\n",
        "\n",
        "train_accuracy_list=[]\n",
        "train_loss_list=[]\n",
        "train_precision_list=[]\n",
        "train_recall_list=[]\n",
        "val_accuracy_list=[]\n",
        "val_loss_list=[]\n",
        "val_precision_list=[]\n",
        "val_recall_list=[]\n",
        "\n",
        "for epoch in range(EPOCHS):\n",
        "  train_acc,train_loss,train_prec,train_rec = train_model(model,train_loader,criterion,optimizer,epoch)\n",
        "  train_accuracy_list.append(train_acc)\n",
        "  train_loss_list.append(train_loss)\n",
        "  train_precision_list.append(train_prec)\n",
        "  train_recall_list.append(train_rec)\n",
        "\n",
        "  val_acc,val_loss,val_prec,val_rec = validate_model(model, val_loader)\n",
        "  val_accuracy_list.append(val_acc)\n",
        "  val_loss_list.append(val_loss)\n",
        "  val_precision_list.append(val_prec)\n",
        "  val_recall_list.append(val_rec)\n",
        "\n",
        "  if((epoch+1) % 10 == 0 or (epoch+1) == EPOCHS):\n",
        "    filename = f\"epoch{epoch+1}_{val_acc * 100:.2f}\"\n",
        "    torch.save(model.state_dict(),os.path.join(\"model1_every10epochs\",filename))\n",
        "  if val_acc > best_accuracy:best_accuracy = val_acc\n",
        "\n",
        "  print(f\"Best Validation Accuracy: {best_accuracy:.4f}\\n\")"
      ]
    },
    {
      "cell_type": "code",
      "execution_count": 8,
      "metadata": {},
      "outputs": [
        {
          "data": {
            "image/png": "[encoded data removed]",
            "text/plain": [
              "<Figure size 1000x800 with 4 Axes>"
            ]
          },
          "metadata": {},
          "output_type": "display_data"
        }
      ],
      "source": [
        "epochs = range(1, EPOCHS + 1)\n",
        "# Create subplots\n",
        "fig, axs = plt.subplots(2, 2, figsize=(10, 8))\n",
        "\n",
        "# Plot accuracy\n",
        "axs[0, 0].plot(epochs, train_accuracy_list, label = 'Training Accuracy', color='blue', marker='o')\n",
        "axs[0, 0].plot(epochs, val_accuracy_list, label='Validation Accuracy', color='orange', marker='o')\n",
        "axs[0, 0].set_title('Accuracy Comparison')\n",
        "axs[0, 0].set_xlabel('Epoch')\n",
        "axs[0, 0].set_ylabel('Accuracy')\n",
        "axs[0, 0].legend()\n",
        "\n",
        "# Plot loss\n",
        "axs[0, 1].plot(epochs, train_loss_list, label = 'Training Loss', color='blue', marker='o')\n",
        "axs[0, 1].plot(epochs, val_loss_list, label='Validation Loss', color='orange', marker='o')\n",
        "axs[0, 1].set_title('Loss Comparison')\n",
        "axs[0, 1].set_xlabel('Epoch')\n",
        "axs[0, 1].set_ylabel('Loss')\n",
        "axs[0, 1].legend()\n",
        "\n",
        "# Plot recall\n",
        "axs[1, 0].plot(epochs, train_recall_list, label = 'Training Recall', color='blue', marker='o')\n",
        "axs[1, 0].plot(epochs, val_recall_list, label= 'Validation Recall', color='orange', marker='o')\n",
        "axs[1, 0].set_title('Recall Comparison')\n",
        "axs[1, 0].set_xlabel('Epoch')\n",
        "axs[1, 0].set_ylabel('Recall')\n",
        "axs[1, 0].legend()\n",
        "\n",
        "# Plot precision\n",
        "axs[1, 1].plot(epochs, train_precision_list, label = 'Training Precision', color='blue', marker='o')\n",
        "axs[1, 1].plot(epochs, val_precision_list, label='Validaton Precision', color='orange', marker='o')\n",
        "axs[1, 1].set_title('Precision Comparison')\n",
        "axs[1, 1].set_xlabel('Epoch')\n",
        "axs[1, 1].set_ylabel('Precision')\n",
        "axs[1, 1].legend()\n",
        "\n",
        "# Adjust layout\n",
        "plt.tight_layout()\n",
        "\n",
        "# Show plot\n",
        "plt.show()"
      ]
    }
  ],
  "metadata": {
    "accelerator": "GPU",
    "colab": {
      "gpuType": "T4",
      "include_colab_link": true,
      "provenance": []
    },
    "kernelspec": {
      "display_name": "Python 3",
      "name": "python3"
    },
    "language_info": {
      "codemirror_mode": {
        "name": "ipython",
        "version": 3
      },
      "file_extension": ".py",
      "mimetype": "text/x-python",
      "name": "python",
      "nbconvert_exporter": "python",
      "pygments_lexer": "ipython3",
      "version": "3.12.2"
    }
  },
  "nbformat": 4,
  "nbformat_minor": 0
}
