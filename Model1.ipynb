{
  "cells": [
    {
      "cell_type": "markdown",
      "metadata": {
        "id": "view-in-github",
        "colab_type": "text"
      },
      "source": [
        "<a href=\"https://colab.research.google.com/github/SIDLAD/CS-F425-Project/blob/main/Model1.ipynb\" target=\"_parent\"><img src=\"https://colab.research.google.com/assets/colab-badge.svg\" alt=\"Open In Colab\"/></a>"
      ]
    },
    {
      "cell_type": "code",
      "source": [
        "RunningInColab = 'google.colab' in str(get_ipython())\n",
        "if RunningInColab:\n",
        "    from google.colab import drive\n",
        "    drive.mount('/content/drive')"
      ],
      "metadata": {
        "id": "73WcCtOSc-t9",
        "outputId": "960fde9f-4dac-48b2-8d74-063b1d8ad2cc",
        "colab": {
          "base_uri": "https://localhost:8080/"
        }
      },
      "execution_count": 38,
      "outputs": [
        {
          "output_type": "stream",
          "name": "stdout",
          "text": [
            "Drive already mounted at /content/drive; to attempt to forcibly remount, call drive.mount(\"/content/drive\", force_remount=True).\n"
          ]
        }
      ]
    },
    {
      "cell_type": "code",
      "source": [
        "# Imports\n",
        "from torch.utils.data import Dataset, DataLoader\n",
        "import os\n",
        "import torch\n",
        "import torchaudio\n",
        "import torchaudio.transforms as transforms\n",
        "from torch.multiprocessing import set_start_method\n",
        "\n",
        "from math import ceil"
      ],
      "metadata": {
        "id": "lbRunumRL6oh"
      },
      "execution_count": 39,
      "outputs": []
    },
    {
      "cell_type": "code",
      "source": [
        "# Hyperparameters\n",
        "TARGET_SAMPLE_RATE = 16000\n",
        "TARGET_LENGTH_SECONDS = 4\n",
        "BATCH_SIZE = 128\n",
        "EPOCHS = 20\n",
        "LEARNING_RATE = 0.001\n",
        "\n",
        "# FREQ_MASK_PARAM = 15\n",
        "# TIME_MASK_PARAM = 25\n",
        "\n",
        "NUM_SAMPLES = TARGET_LENGTH_SECONDS * TARGET_SAMPLE_RATE\n",
        "device = torch.device(\"cuda\" if torch.cuda.is_available() else \"cpu\")\n",
        "\n",
        "# Define transformations\n",
        "transformations = [\n",
        "    # transforms.FrequencyMasking(freq_mask_param=FREQ_MASK_PARAM),\n",
        "    # transforms.TimeMasking(time_mask_param=TIME_MASK_PARAM),\n",
        "    transforms.MelSpectrogram(\n",
        "            sample_rate=TARGET_SAMPLE_RATE,\n",
        "            n_fft = 1024,\n",
        "            hop_length = 512,\n",
        "            n_mels = 64\n",
        "        )\n",
        "]"
      ],
      "metadata": {
        "id": "hjZxNkGLJmyK"
      },
      "execution_count": 40,
      "outputs": []
    },
    {
      "cell_type": "code",
      "execution_count": 41,
      "metadata": {
        "id": "VjgT3fgxcleX"
      },
      "outputs": [],
      "source": [
        "class_mapping = {}\n",
        "\n",
        "class AudioDataset(Dataset):\n",
        "  def __init__(self,\n",
        "               data_dir,\n",
        "               transformations = transformations,\n",
        "               target_sample_rate = TARGET_SAMPLE_RATE,\n",
        "               num_samples = NUM_SAMPLES,\n",
        "               device = device\n",
        "               ):\n",
        "    self.data_dir = data_dir\n",
        "    self.classes = sorted(os.listdir(data_dir))\n",
        "    self.file_paths = []\n",
        "    self.targets = []\n",
        "    self.transformations = transformations\n",
        "    self.target_sample_rate = target_sample_rate\n",
        "    self.num_samples = num_samples\n",
        "    self.device = device\n",
        "\n",
        "    createMapping = False\n",
        "    if(len(class_mapping) == 0):createMapping = True\n",
        "\n",
        "    for i,class_name in enumerate(self.classes):\n",
        "      class_dir = os.path.join(data_dir,class_name)\n",
        "      if(createMapping):class_mapping[class_name] = i\n",
        "\n",
        "      for filename in os.listdir(class_dir):\n",
        "        filepath = os.path.join(class_dir,filename)\n",
        "        self.file_paths.append(filepath)\n",
        "        self.targets.append(class_mapping[class_name])\n",
        "\n",
        "  def __len__(self):\n",
        "    return len(self.file_paths)\n",
        "\n",
        "  def __getitem__(self,idx):\n",
        "    audio_path = self.file_paths[idx]\n",
        "    waveform, sample_rate = torchaudio.load(audio_path)\n",
        "    waveform = waveform.to(self.device)\n",
        "    waveform = self._resample_if_necessary(waveform,sample_rate)\n",
        "    waveform = self._mix_down_if_necessary(waveform)\n",
        "    waveform = self._cut_if_necessary(waveform)\n",
        "    waveform = self._right_pad_if_necessary(waveform)\n",
        "\n",
        "    if self.transformations:\n",
        "      for transformation in self.transformations:\n",
        "        waveform = transformation.to(self.device)(waveform)\n",
        "\n",
        "    label = self.targets[idx]\n",
        "    return waveform, label\n",
        "\n",
        "  def _resample_if_necessary(self, waveform,sample_rate):\n",
        "    if sample_rate != self.target_sample_rate:\n",
        "      resampler = torchaudio.transforms.Resample(sample_rate,self.target_sample_rate)\n",
        "      waveform = resampler.to(self.device)(waveform)\n",
        "    return waveform\n",
        "\n",
        "  def _mix_down_if_necessary(self,waveform):\n",
        "    if waveform.shape[0] > 1:\n",
        "      waveform = torch.mean(waveform,dim = 0,keepdim = True)\n",
        "    return waveform\n",
        "\n",
        "  #If the video was longer than TARGET_LENGTH_SECONDS, then we are cropping it to that many seconds by removing seconds equally from both the start and the end sides\n",
        "  def _cut_if_necessary(self,waveform):\n",
        "    if waveform.shape[1] > self.num_samples:\n",
        "      mid = (waveform.shape[1] - 1)//2\n",
        "      nsby2 = self.num_samples//2\n",
        "      waveform = waveform[:,mid - nsby2 + 1: mid + self.num_samples - nsby2 + 1]\n",
        "    return waveform\n",
        "\n",
        "  def _right_pad_if_necessary(self,waveform):\n",
        "    num_samples = waveform.shape[1]\n",
        "    if num_samples < self.num_samples:\n",
        "      num_missing_samples = self.num_samples - num_samples\n",
        "      last_dim_padding = (0,num_missing_samples)\n",
        "      waveform = torch.nn.functional.pad(waveform,last_dim_padding)\n",
        "    return waveform\n",
        "\n",
        "\n",
        "\n",
        "# Define data directories\n",
        "train_dir: str\n",
        "val_dir:str\n",
        "if RunningInColab:\n",
        "    train_dir = \"/content/drive/MyDrive/audio_dataset/train\"\n",
        "    val_dir = \"/content/drive/MyDrive/audio_dataset/val\"\n",
        "else:\n",
        "    train_dir = \"audio_dataset/train\"\n",
        "    val_dir = \"audio_dataset/val\"\n",
        "\n",
        "train_dataset = AudioDataset(train_dir)\n",
        "val_dataset = AudioDataset(val_dir)\n",
        "\n",
        "train_loader = DataLoader(\n",
        "    train_dataset,batch_size = BATCH_SIZE, shuffle = True\n",
        ")\n",
        "val_loader = DataLoader(\n",
        "    val_dataset,batch_size = BATCH_SIZE\n",
        ")"
      ]
    },
    {
      "cell_type": "code",
      "execution_count": null,
      "metadata": {
        "id": "jhisim9Ncleb"
      },
      "outputs": [],
      "source": [
        "import torch\n",
        "import torch.nn as nn\n",
        "import torch.nn.functional as F\n",
        "import torch.optim as optim\n",
        "import torchvision.models as models\n",
        "from torchsummary import summary\n",
        "\n",
        "model = models.resnet50(weights = None).to(device)\n",
        "model.conv1 = nn.Conv2d(1,64,kernel_size = 7,stride = 2,padding = 3,bias = False).to(device)\n",
        "\n",
        "num_classes = len(class_mapping)\n",
        "num_features = model.fc.in_features\n",
        "model.fc = nn.Sequential(\n",
        "    nn.Linear(num_features, num_classes),\n",
        "    nn.Sigmoid(),\n",
        "    nn.Softmax(dim = 1)\n",
        ").to(device)\n",
        "\n",
        "summary(model,(1,64,126))"
      ]
    },
    {
      "cell_type": "code",
      "source": [
        "criterion = nn.CrossEntropyLoss()\n",
        "optimizer = optim.Adam(model.parameters(),lr = LEARNING_RATE)\n",
        "\n",
        "def train_model(model, train_loader, criterion, optimizer, epoch):\n",
        "  model.train()  # Set model to training mode\n",
        "  running_loss = 0.0\n",
        "  correct = 0\n",
        "  total = 0\n",
        "\n",
        "  batch_itr = 0\n",
        "\n",
        "  data_iter = iter(train_loader)\n",
        "\n",
        "  next_batch = next(data_iter) # start loading the first batch\n",
        "  next_batch = [ _.to(device,non_blocking=True) for _ in next_batch ]  # with pin_memory=True and non_blocking=True, this will copy data to GPU non blockingly\n",
        "\n",
        "  for i in range(len(train_loader)):\n",
        "    batch = next_batch\n",
        "    if i + 2 != len(train_loader):\n",
        "      # start copying data of next batch\n",
        "      next_batch = next(data_iter)\n",
        "      next_batch = [ _.to(device,non_blocking=True) for _ in next_batch]\n",
        "\n",
        "    inputs,labels = batch\n",
        "    inputs = inputs.to(device)\n",
        "    labels = labels.to(device)\n",
        "\n",
        "    optimizer.zero_grad()\n",
        "\n",
        "    # Forward pass\n",
        "    outputs = model(inputs)\n",
        "    _, predicted = torch.max(outputs, 1)\n",
        "    total += labels.size(0)\n",
        "    correct += (predicted == labels).sum().item()\n",
        "    loss = criterion(outputs, labels)\n",
        "\n",
        "    # Backward pass and optimize\n",
        "    loss.backward()\n",
        "    optimizer.step()\n",
        "\n",
        "    running_loss += loss.item() * inputs.size(0)\n",
        "    batch_itr+=1\n",
        "\n",
        "    print(f\"Batch {batch_itr} of {ceil(len(train_dataset)/BATCH_SIZE)}\")\n",
        "  epoch_loss = running_loss / len(train_loader.dataset)\n",
        "  print(f\"Epoch [{epoch+1}/{EPOCHS}], Loss: {epoch_loss:.4f}\")\n",
        "  train_accuracy = correct / total\n",
        "  print(f'Training Accuracy: {train_accuracy:.4f}')\n",
        "\n",
        "# Validation function\n",
        "def validate_model(model, val_loader):\n",
        "  model.eval()  # Set model to evaluation mode\n",
        "  correct = 0\n",
        "  total = 0\n",
        "\n",
        "  with torch.no_grad():\n",
        "    for inputs, labels in val_loader:\n",
        "      inputs = inputs.to(device)\n",
        "      labels = labels.to(device)\n",
        "\n",
        "      outputs = model(inputs)\n",
        "      _, predicted = torch.max(outputs, 1)\n",
        "      total += labels.size(0)\n",
        "      correct += (predicted == labels).sum().item()\n",
        "\n",
        "  val_accuracy = correct / total\n",
        "  print(f'Validation Accuracy: {val_accuracy:.4f}')\n",
        "  return val_accuracy"
      ],
      "metadata": {
        "id": "X6oxjQvIeKv8"
      },
      "execution_count": 45,
      "outputs": []
    },
    {
      "cell_type": "code",
      "source": [
        "# Training Loop\n",
        "best_accuracy = 0.0\n",
        "\n",
        "for epoch in range(EPOCHS):\n",
        "  train_model(model,train_loader,criterion,optimizer,epoch)\n",
        "  accuracy = validate_model(model, val_loader)\n",
        "\n",
        "  if accuracy > best_accuracy:\n",
        "    best_accuracy = accuracy\n",
        "    # torch.save(model.state_dict(),'best_model.pth')\n",
        "\n",
        "  print(f\"Best Validation Accuracy: {best_accuracy:.4f}\")"
      ],
      "metadata": {
        "id": "yKN0MP8sek_r",
        "outputId": "c13b1902-3312-4791-d0fd-89ccad872fce",
        "colab": {
          "base_uri": "https://localhost:8080/"
        }
      },
      "execution_count": null,
      "outputs": [
        {
          "output_type": "stream",
          "name": "stdout",
          "text": [
            "Batch 1 of 152\n",
            "Batch 2 of 152\n",
            "Batch 3 of 152\n",
            "Batch 4 of 152\n",
            "Batch 5 of 152\n",
            "Batch 6 of 152\n",
            "Batch 7 of 152\n"
          ]
        }
      ]
    }
  ],
  "metadata": {
    "colab": {
      "provenance": [],
      "gpuType": "T4",
      "include_colab_link": true
    },
    "kernelspec": {
      "display_name": "Python 3",
      "name": "python3"
    },
    "language_info": {
      "codemirror_mode": {
        "name": "ipython",
        "version": 3
      },
      "file_extension": ".py",
      "mimetype": "text/x-python",
      "name": "python",
      "nbconvert_exporter": "python",
      "pygments_lexer": "ipython3",
      "version": "3.12.2"
    },
    "accelerator": "GPU"
  },
  "nbformat": 4,
  "nbformat_minor": 0
}